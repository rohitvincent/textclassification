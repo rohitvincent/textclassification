{
 "cells": [
  {
   "cell_type": "markdown",
   "metadata": {},
   "source": [
    "## Text Classification\n",
    "<b>Rohit Vincent - therohitvincent@gmail.com<br>"
   ]
  },
  {
   "cell_type": "markdown",
   "metadata": {},
   "source": [
    "#### Import Required Libraries"
   ]
  },
  {
   "cell_type": "code",
   "execution_count": 1,
   "metadata": {},
   "outputs": [],
   "source": [
    "from bs4 import BeautifulSoup\n",
    "import requests\n",
    "import matplotlib.pyplot as plt\n",
    "import pandas as pd\n",
    "import numpy as np\n",
    "from sklearn.feature_extraction.text import TfidfVectorizer\n",
    "from sklearn import metrics\n",
    "from nltk.stem.porter import PorterStemmer\n",
    "from nltk.corpus import stopwords\n",
    "from sklearn.model_selection import cross_validate,train_test_split\n",
    "from sklearn.neighbors import KNeighborsClassifier\n",
    "from sklearn.linear_model import PassiveAggressiveClassifier\n",
    "from sklearn.naive_bayes import ComplementNB\n",
    "from sklearn.svm import SVC\n",
    "import random\n",
    "import seaborn as sns"
   ]
  },
  {
   "cell_type": "code",
   "execution_count": 2,
   "metadata": {},
   "outputs": [],
   "source": [
    "# Random seed to replicate\n",
    "random.seed(60)\n",
    "# Inline plotting\n",
    "%matplotlib inline\n",
    "# Use Seaborn\n",
    "sns.set()"
   ]
  },
  {
   "cell_type": "markdown",
   "metadata": {},
   "source": [
    "<b>Following javascript code is to disable the scroll function for the output of the notebook</b>"
   ]
  },
  {
   "cell_type": "code",
   "execution_count": 3,
   "metadata": {},
   "outputs": [
    {
     "data": {
      "application/javascript": [
       "IPython.OutputArea.prototype._should_scroll = function(lines) {\n",
       "    return false;\n",
       "}\n"
      ],
      "text/plain": [
       "<IPython.core.display.Javascript object>"
      ]
     },
     "metadata": {},
     "output_type": "display_data"
    }
   ],
   "source": [
    "%%javascript\n",
    "IPython.OutputArea.prototype._should_scroll = function(lines) {\n",
    "    return false;\n",
    "}"
   ]
  },
  {
   "cell_type": "markdown",
   "metadata": {},
   "source": [
    "#### Categories chosen"
   ]
  },
  {
   "cell_type": "markdown",
   "metadata": {},
   "source": [
    "The datasets used for classification are reviews on Bars & Restaurants. Both of them are places where people go to eat. Hence reviews should have common features. Due to the similarity between these two datasets, We hypothesis that a good accuracy could be attained for transfer learning on the models created."
   ]
  },
  {
   "cell_type": "code",
   "execution_count": 4,
   "metadata": {},
   "outputs": [],
   "source": [
    "category1 = \"bars_list\"\n",
    "category2 = \"restaurants_list\"\n",
    "yalp_prefix = \"http://mlg.ucd.ie/modules/yalp/\""
   ]
  },
  {
   "cell_type": "markdown",
   "metadata": {},
   "source": [
    "#### Define Function for Plotting"
   ]
  },
  {
   "cell_type": "code",
   "execution_count": 5,
   "metadata": {},
   "outputs": [],
   "source": [
    "# Define Generate Random Colours\n",
    "def getColors(length):\n",
    "    colors = list()\n",
    "    for i in range(length):\n",
    "        colors.append(list(np.random.rand(3,)))\n",
    "    return colors\n",
    "\n",
    "# Function to plot bar graph\n",
    "def plot_graph(Dictionary,mytitle,ytitle=\"Accuracy\",prune=False):\n",
    "    ys = sorted(Dictionary.values(), reverse=True)\n",
    "    labels = sorted(Dictionary, key=Dictionary.get, reverse=True)\n",
    "    xs = np.arange(len(labels)) \n",
    "    # Set title\n",
    "    plt.figure(figsize=(15,7))\n",
    "    plt.title(mytitle, fontsize=15)\n",
    "    plt.bar(xs, ys,align='center', color=getColors(len(xs)),tick_label=ys)\n",
    "    plt.xticks(xs, labels) #Replace default x-ticks with xs, then replace xs with labels\n",
    "    plt.xlabel(\"Classifier Type\")\n",
    "    plt.yticks(ys)\n",
    "    plt.ylabel(ytitle)\n",
    "    plt.xticks(rotation=90)\n",
    "    plt.tick_params(axis='y', which='major')\n",
    "    # To ensure differences are scene start y value close to first value\n",
    "    plt.ylim(bottom=ys[-1]-0.01)\n",
    "    # Prune y axis to avoid overlap\n",
    "    if prune:\n",
    "        new_y=[]\n",
    "        for i,y in enumerate(ys):\n",
    "            if i==0: \n",
    "                prev = y\n",
    "                new_y.append(prev)\n",
    "                continue;\n",
    "            if(prev-y > 0.005):\n",
    "                new_y.append(y)\n",
    "            prev=y\n",
    "        plt.yticks(new_y)\n",
    "    plt.show()"
   ]
  },
  {
   "cell_type": "markdown",
   "metadata": {},
   "source": [
    "## TASK 1: Fetch Reviews for a category"
   ]
  },
  {
   "cell_type": "markdown",
   "metadata": {},
   "source": [
    "Function to parse the web server and get a dataframe consisting of reviews & ratings.<br>\n",
    "All ratings less than 4-stars are considered negative.<br>\n",
    "This dataframe is saved to the disk.<br>"
   ]
  },
  {
   "cell_type": "code",
   "execution_count": 6,
   "metadata": {},
   "outputs": [],
   "source": [
    "def fetchData(category,prefix):\n",
    "    # Map Labels to Positive/Negative\n",
    "    map_rating = {'1-star':\"negative\",\n",
    "                      '2-star':\"negative\",\n",
    "                      '3-star':\"negative\",\n",
    "                      '4-star':\"positive\",\n",
    "                      '5-star':\"positive\"}\n",
    "    # Fetch html page\n",
    "    resp = requests.get(prefix+category)\n",
    "    # Create soup of response text\n",
    "    soup = BeautifulSoup(resp.text, 'html')\n",
    "    # Define column names for our new dataframe\n",
    "    columns = ['review','rating']\n",
    "    # Create dataframe with columns\n",
    "    df = pd.DataFrame(columns=columns)\n",
    "    # For each listing in the category\n",
    "    for link in soup.find_all('a'):\n",
    "        # Fetch link to review for listing\n",
    "        resp = requests.get(prefix+link.attrs['href'])\n",
    "        # Create soup of response text\n",
    "        soup = BeautifulSoup(resp.text, 'html')\n",
    "        # Fetch all divs in the html with class review\n",
    "        reviews = soup.find_all('div',class_=\"review\")\n",
    "        # For each div review class\n",
    "        for review in reviews:\n",
    "            # Fetch p element with class text\n",
    "            text = review.find_all('p',class_=\"text\")[0].text\n",
    "            # Fetch img element with alt \n",
    "            rating = review.find_all('img',alt=True)[0]['alt']\n",
    "            # Store all details in dataframe    \n",
    "            df.loc[len(df)]=[text,rating]\n",
    "    # Replace ratings into negative or positive\n",
    "    df['rating'] = df['rating'].map(map_rating)\n",
    "    # Save the data to csv\n",
    "    df.to_csv(category+\".csv\", index= False)"
   ]
  },
  {
   "cell_type": "markdown",
   "metadata": {},
   "source": [
    "Store the files"
   ]
  },
  {
   "cell_type": "code",
   "execution_count": 7,
   "metadata": {},
   "outputs": [],
   "source": [
    "# Fetch & Store data for Bars\n",
    "fetchData(category1,yalp_prefix)\n",
    "# Fetch & Store data for Restaurants\n",
    "fetchData(category2,yalp_prefix)"
   ]
  },
  {
   "cell_type": "markdown",
   "metadata": {},
   "source": [
    "## Reviews for Bars"
   ]
  },
  {
   "cell_type": "code",
   "execution_count": 8,
   "metadata": {},
   "outputs": [],
   "source": [
    "dataset1 = pd.read_csv(category1+\".csv\")"
   ]
  },
  {
   "cell_type": "markdown",
   "metadata": {},
   "source": [
    "Check the data for bars"
   ]
  },
  {
   "cell_type": "code",
   "execution_count": 9,
   "metadata": {},
   "outputs": [
    {
     "data": {
      "text/html": [
       "<div>\n",
       "<style scoped>\n",
       "    .dataframe tbody tr th:only-of-type {\n",
       "        vertical-align: middle;\n",
       "    }\n",
       "\n",
       "    .dataframe tbody tr th {\n",
       "        vertical-align: top;\n",
       "    }\n",
       "\n",
       "    .dataframe thead th {\n",
       "        text-align: right;\n",
       "    }\n",
       "</style>\n",
       "<table border=\"1\" class=\"dataframe\">\n",
       "  <thead>\n",
       "    <tr style=\"text-align: right;\">\n",
       "      <th></th>\n",
       "      <th>review</th>\n",
       "      <th>rating</th>\n",
       "    </tr>\n",
       "  </thead>\n",
       "  <tbody>\n",
       "    <tr>\n",
       "      <th>0</th>\n",
       "      <td>It would help if the front girl don't just sit...</td>\n",
       "      <td>negative</td>\n",
       "    </tr>\n",
       "    <tr>\n",
       "      <th>1</th>\n",
       "      <td>One star because that's the least amount you c...</td>\n",
       "      <td>negative</td>\n",
       "    </tr>\n",
       "    <tr>\n",
       "      <th>2</th>\n",
       "      <td>Bad time today. Dirty windows, table sticky, h...</td>\n",
       "      <td>negative</td>\n",
       "    </tr>\n",
       "    <tr>\n",
       "      <th>3</th>\n",
       "      <td>My second visit in the last year. Both experie...</td>\n",
       "      <td>negative</td>\n",
       "    </tr>\n",
       "    <tr>\n",
       "      <th>4</th>\n",
       "      <td>Absolutely awful! Took forever to get food, fo...</td>\n",
       "      <td>negative</td>\n",
       "    </tr>\n",
       "  </tbody>\n",
       "</table>\n",
       "</div>"
      ],
      "text/plain": [
       "                                              review    rating\n",
       "0  It would help if the front girl don't just sit...  negative\n",
       "1  One star because that's the least amount you c...  negative\n",
       "2  Bad time today. Dirty windows, table sticky, h...  negative\n",
       "3  My second visit in the last year. Both experie...  negative\n",
       "4  Absolutely awful! Took forever to get food, fo...  negative"
      ]
     },
     "execution_count": 9,
     "metadata": {},
     "output_type": "execute_result"
    }
   ],
   "source": [
    "dataset1.head()"
   ]
  },
  {
   "cell_type": "markdown",
   "metadata": {},
   "source": [
    "Number of reviews for Bars"
   ]
  },
  {
   "cell_type": "code",
   "execution_count": 10,
   "metadata": {},
   "outputs": [
    {
     "data": {
      "text/plain": [
       "1460"
      ]
     },
     "execution_count": 10,
     "metadata": {},
     "output_type": "execute_result"
    }
   ],
   "source": [
    "dataset1.shape[0]"
   ]
  },
  {
   "cell_type": "markdown",
   "metadata": {},
   "source": [
    "Distribution of ratings"
   ]
  },
  {
   "cell_type": "code",
   "execution_count": 11,
   "metadata": {},
   "outputs": [
    {
     "data": {
      "text/plain": [
       "<matplotlib.axes._subplots.AxesSubplot at 0x18e6b63fba8>"
      ]
     },
     "execution_count": 11,
     "metadata": {},
     "output_type": "execute_result"
    },
    {
     "data": {
      "image/png": "[encoded data removed]",
      "text/plain": [
       "<Figure size 432x288 with 1 Axes>"
      ]
     },
     "metadata": {},
     "output_type": "display_data"
    }
   ],
   "source": [
    "dataset1.rating.value_counts().plot(kind='bar',title='Bar Dataset, Count of positive/negative ratings')"
   ]
  },
  {
   "cell_type": "markdown",
   "metadata": {},
   "source": [
    "## Reviews for Restaurants"
   ]
  },
  {
   "cell_type": "code",
   "execution_count": 12,
   "metadata": {},
   "outputs": [],
   "source": [
    "dataset2 = pd.read_csv(category2+\".csv\")"
   ]
  },
  {
   "cell_type": "markdown",
   "metadata": {},
   "source": [
    "Check the dataset for restaurants"
   ]
  },
  {
   "cell_type": "code",
   "execution_count": 13,
   "metadata": {},
   "outputs": [
    {
     "data": {
      "text/html": [
       "<div>\n",
       "<style scoped>\n",
       "    .dataframe tbody tr th:only-of-type {\n",
       "        vertical-align: middle;\n",
       "    }\n",
       "\n",
       "    .dataframe tbody tr th {\n",
       "        vertical-align: top;\n",
       "    }\n",
       "\n",
       "    .dataframe thead th {\n",
       "        text-align: right;\n",
       "    }\n",
       "</style>\n",
       "<table border=\"1\" class=\"dataframe\">\n",
       "  <thead>\n",
       "    <tr style=\"text-align: right;\">\n",
       "      <th></th>\n",
       "      <th>review</th>\n",
       "      <th>rating</th>\n",
       "    </tr>\n",
       "  </thead>\n",
       "  <tbody>\n",
       "    <tr>\n",
       "      <th>0</th>\n",
       "      <td>Too expensive for what they had... i had an eg...</td>\n",
       "      <td>negative</td>\n",
       "    </tr>\n",
       "    <tr>\n",
       "      <th>1</th>\n",
       "      <td>Very rustic place. Mismatched furniture, off K...</td>\n",
       "      <td>positive</td>\n",
       "    </tr>\n",
       "    <tr>\n",
       "      <th>2</th>\n",
       "      <td>I highly recommend Au Festin de Babette for th...</td>\n",
       "      <td>positive</td>\n",
       "    </tr>\n",
       "    <tr>\n",
       "      <th>3</th>\n",
       "      <td>Amazing soup and dauphinoise. BUT the wait for...</td>\n",
       "      <td>negative</td>\n",
       "    </tr>\n",
       "    <tr>\n",
       "      <th>4</th>\n",
       "      <td>I went here by recommendation of a friend. Tho...</td>\n",
       "      <td>negative</td>\n",
       "    </tr>\n",
       "  </tbody>\n",
       "</table>\n",
       "</div>"
      ],
      "text/plain": [
       "                                              review    rating\n",
       "0  Too expensive for what they had... i had an eg...  negative\n",
       "1  Very rustic place. Mismatched furniture, off K...  positive\n",
       "2  I highly recommend Au Festin de Babette for th...  positive\n",
       "3  Amazing soup and dauphinoise. BUT the wait for...  negative\n",
       "4  I went here by recommendation of a friend. Tho...  negative"
      ]
     },
     "execution_count": 13,
     "metadata": {},
     "output_type": "execute_result"
    }
   ],
   "source": [
    "dataset2.head()"
   ]
  },
  {
   "cell_type": "markdown",
   "metadata": {},
   "source": [
    "Number of reviews for restaurant"
   ]
  },
  {
   "cell_type": "code",
   "execution_count": 14,
   "metadata": {},
   "outputs": [
    {
     "data": {
      "text/plain": [
       "1440"
      ]
     },
     "execution_count": 14,
     "metadata": {},
     "output_type": "execute_result"
    }
   ],
   "source": [
    "dataset2.shape[0]"
   ]
  },
  {
   "cell_type": "markdown",
   "metadata": {},
   "source": [
    "Distribution of ratings"
   ]
  },
  {
   "cell_type": "code",
   "execution_count": 15,
   "metadata": {},
   "outputs": [
    {
     "data": {
      "text/plain": [
       "<matplotlib.axes._subplots.AxesSubplot at 0x18e6b577278>"
      ]
     },
     "execution_count": 15,
     "metadata": {},
     "output_type": "execute_result"
    },
    {
     "data": {
      "image/png": "[encoded data removed]",
      "text/plain": [
       "<Figure size 432x288 with 1 Axes>"
      ]
     },
     "metadata": {},
     "output_type": "display_data"
    }
   ],
   "source": [
    "dataset2.rating.value_counts().plot(kind='bar',title='Restaurant Dataset, Count of positive/negative ratings')"
   ]
  },
  {
   "cell_type": "markdown",
   "metadata": {},
   "source": [
    "We can see that both datasets are imbalanced."
   ]
  },
  {
   "cell_type": "markdown",
   "metadata": {},
   "source": [
    "# Task 2"
   ]
  },
  {
   "cell_type": "markdown",
   "metadata": {},
   "source": [
    "## Pre-Processing & Feature Extraction Vectorizer"
   ]
  },
  {
   "cell_type": "markdown",
   "metadata": {},
   "source": [
    "Create a vectorizer which does the following pre-processing:\n",
    " 1. Strip accents to get a normalised form of the text using unicode encoding. (Implicit function call attribute strip_accents)\n",
    " 2. Convert all words to lower case. (Implicit function call attribute lowercase)\n",
    " 3. Remove english stopwords (Achieved in custom tokenization function, did not use implicit call in order to stem)\n",
    " 4. Stem words to root form (Achieved in custom tokenization function)\n",
    " 5. Standard pre-processing of removing junk characters is achieved in the default tokenizer used in the custom tokenization function"
   ]
  },
  {
   "cell_type": "code",
   "execution_count": 16,
   "metadata": {},
   "outputs": [],
   "source": [
    "# Get stop word list\n",
    "stopwords_list = stopwords.words('english')\n",
    "# Fetch default tokenizer for Tfidf Vectorizer\n",
    "standard_tokenizer = TfidfVectorizer().build_tokenizer()\n",
    "# Use NLTK Porter Stemmer to perform stemming\n",
    "stemmer = PorterStemmer()\n",
    "# Custom tokenization function which does stemming & stop word removal \n",
    "# Implicit stop word removal was not done since the standard vectorizer pipeline calls \n",
    "# stop word removal after tokenization(stemming)\n",
    "def custom_tokenizer(text):\n",
    "    # Tokenize the text\n",
    "    tokens = standard_tokenizer(text)\n",
    "    stems = []\n",
    "    # For each token\n",
    "    for token in tokens:\n",
    "        # Only accept token if it is not a stop word\n",
    "        if token not in stopwords_list:\n",
    "        # Stem the token to root form and add to list\n",
    "            stems.append( stemmer.stem(token) )\n",
    "    return stems"
   ]
  },
  {
   "cell_type": "markdown",
   "metadata": {},
   "source": [
    "Create the vectorizer\n",
    "1. Default vectorizer used for most classifiers which include the default preprocessing steps mentioned above for unigram features.\n",
    "2. Vectorizer which uses all preprocessing steps other than stemming to generate unigram features.\n",
    "3. Vectorizer used for most classifiers which include the default preprocessing steps mentioed above for unigrams + bigrams."
   ]
  },
  {
   "cell_type": "code",
   "execution_count": 17,
   "metadata": {},
   "outputs": [],
   "source": [
    "# Default vectorizer with stemming for unigrams\n",
    "vectorizer = TfidfVectorizer(min_df = 10,strip_accents='unicode',sublinear_tf=True,tokenizer=custom_tokenizer,lowercase=True)\n",
    "# Vectorizer without stemming for unigrams\n",
    "vectorizer_nostem = TfidfVectorizer(min_df = 10,strip_accents='unicode',sublinear_tf=True,stop_words='english',lowercase=True)\n",
    "# Default vectorizer with stemming for unigrams & bigrams\n",
    "vectorizer_bi = TfidfVectorizer(min_df = 10,strip_accents='unicode',sublinear_tf=True,tokenizer=custom_tokenizer,lowercase=True,ngram_range=(1,2))"
   ]
  },
  {
   "cell_type": "markdown",
   "metadata": {},
   "source": [
    "## Create Classifier for Bars"
   ]
  },
  {
   "cell_type": "markdown",
   "metadata": {},
   "source": [
    "Get data & labels for bars"
   ]
  },
  {
   "cell_type": "code",
   "execution_count": 18,
   "metadata": {},
   "outputs": [],
   "source": [
    "data = dataset1.review \n",
    "target = dataset1.rating"
   ]
  },
  {
   "cell_type": "markdown",
   "metadata": {},
   "source": [
    "### Divide dataset into training & testing (20% of dataset for testing)"
   ]
  },
  {
   "cell_type": "code",
   "execution_count": 19,
   "metadata": {},
   "outputs": [
    {
     "name": "stdout",
     "output_type": "stream",
     "text": [
      "Training set has 1168 samples\n",
      "Test set has 292 samples\n"
     ]
    }
   ],
   "source": [
    "# The split is stratified meaning it will have equal number of both target classes in the training/test set\n",
    "X, X_test, y_train, y_test = train_test_split(data, target, test_size=0.2,stratify=target,random_state=60)\n",
    "print(\"Training set has %d samples\" % X.shape[0])\n",
    "print(\"Test set has %d samples\" % X_test.shape[0])"
   ]
  },
  {
   "cell_type": "markdown",
   "metadata": {},
   "source": [
    "### Numeric representation(Sample) of Bars"
   ]
  },
  {
   "cell_type": "code",
   "execution_count": 20,
   "metadata": {},
   "outputs": [
    {
     "name": "stdout",
     "output_type": "stream",
     "text": [
      "  (33, 0)\t0.2933904336336218\n",
      "  (34, 0)\t0.20708764728686907\n",
      "  (35, 0)\t0.0946053127428619\n",
      "  (155, 0)\t0.23332452491679498\n",
      "  (317, 0)\t0.19202049996751033\n",
      "  (360, 0)\t0.14001727832278815\n",
      "  (391, 0)\t0.22962820103149836\n",
      "  (448, 0)\t0.19136522246910023\n",
      "  (482, 0)\t0.11898331334779837\n",
      "  (530, 0)\t0.10949800187565903\n",
      "  (629, 0)\t0.19081613310281847\n",
      "  (643, 0)\t0.23594019823702803\n",
      "  (685, 0)\t0.09428671772967026\n",
      "  (697, 0)\t0.2584135151411138\n",
      "  (703, 0)\t0.2053522350682296\n",
      "  (780, 0)\t0.29613945708369904\n",
      "  (801, 0)\t0.28990490656318946\n",
      "  (821, 0)\t0.2945936265614037\n",
      "  (856, 0)\t0.20408711365740714\n",
      "  (868, 0)\t0.1198478387996109\n",
      "  (878, 0)\t0.16390721713767448\n",
      "  (989, 0)\t0.11439164240835521\n",
      "  (1083, 0)\t0.09824721107266847\n",
      "  (1093, 0)\t0.2500983673255697\n",
      "  (1134, 0)\t0.10865973269721713\n",
      "  (1156, 0)\t0.22692797746114587\n"
     ]
    }
   ],
   "source": [
    "# Learn Vocabulary & Transform words into TDIDF matrix\n",
    "X_train = vectorizer.fit_transform(X)\n",
    "print(X_train[:-1,-1])"
   ]
  },
  {
   "cell_type": "code",
   "execution_count": 21,
   "metadata": {},
   "outputs": [
    {
     "name": "stdout",
     "output_type": "stream",
     "text": [
      "Vocabulary has 1043 features\n"
     ]
    }
   ],
   "source": [
    "# Fetch Features\n",
    "terms = vectorizer.get_feature_names()\n",
    "print(\"Vocabulary has %d features\" % len(terms))"
   ]
  },
  {
   "cell_type": "markdown",
   "metadata": {},
   "source": [
    "#### Top 10 Features"
   ]
  },
  {
   "cell_type": "code",
   "execution_count": 22,
   "metadata": {},
   "outputs": [
    {
     "name": "stdout",
     "output_type": "stream",
     "text": [
      "food\n",
      "great\n",
      "place\n",
      "good\n",
      "servic\n",
      "time\n",
      "bar\n",
      "go\n",
      "order\n",
      "drink\n"
     ]
    }
   ],
   "source": [
    "# sum over the columns\n",
    "freqs = X_train.sum(axis=0)\n",
    "# sort indexes by value\n",
    "sorted_term_indexes = freqs.argsort()\n",
    "# reverse it\n",
    "sorted_term_indexes = sorted_term_indexes[0, ::-1]\n",
    "# display the top 10 terms\n",
    "for i in range(10):\n",
    "    term_index = sorted_term_indexes[0,i]\n",
    "    print(terms[term_index])"
   ]
  },
  {
   "cell_type": "markdown",
   "metadata": {},
   "source": [
    "### Model 1: Naive Bayes Classifier"
   ]
  },
  {
   "cell_type": "code",
   "execution_count": 23,
   "metadata": {},
   "outputs": [],
   "source": [
    "# Declare Naive Bayes Model\n",
    "bar_model = ComplementNB()\n",
    "# Train the model using training set\n",
    "bar_model.fit(X_train, y_train)\n",
    "# Convert Test Set into TD-IDF representation\n",
    "Xtest = vectorizer.transform(X_test) \n",
    "# Test the model using rest 20%\n",
    "predicted = bar_model.predict(Xtest)"
   ]
  },
  {
   "cell_type": "markdown",
   "metadata": {},
   "source": [
    "##### Test model 1 with some examples from the dataset"
   ]
  },
  {
   "cell_type": "markdown",
   "metadata": {},
   "source": [
    "Actual Ratings"
   ]
  },
  {
   "cell_type": "code",
   "execution_count": 24,
   "metadata": {},
   "outputs": [
    {
     "data": {
      "text/html": [
       "<div>\n",
       "<style scoped>\n",
       "    .dataframe tbody tr th:only-of-type {\n",
       "        vertical-align: middle;\n",
       "    }\n",
       "\n",
       "    .dataframe tbody tr th {\n",
       "        vertical-align: top;\n",
       "    }\n",
       "\n",
       "    .dataframe thead th {\n",
       "        text-align: right;\n",
       "    }\n",
       "</style>\n",
       "<table border=\"1\" class=\"dataframe\">\n",
       "  <thead>\n",
       "    <tr style=\"text-align: right;\">\n",
       "      <th>Actual Rating</th>\n",
       "      <th>negative</th>\n",
       "      <th>positive</th>\n",
       "      <th>All</th>\n",
       "    </tr>\n",
       "    <tr>\n",
       "      <th>Reviews</th>\n",
       "      <th></th>\n",
       "      <th></th>\n",
       "      <th></th>\n",
       "    </tr>\n",
       "  </thead>\n",
       "  <tbody>\n",
       "    <tr>\n",
       "      <th>Fresh and tasty new dishes, really friendly staff. Super cool design and flow, great atmosphere and menu! Will def be back, lots of authentic but new school asian dishes.</th>\n",
       "      <td>0</td>\n",
       "      <td>1</td>\n",
       "      <td>1</td>\n",
       "    </tr>\n",
       "    <tr>\n",
       "      <th>Great foods, great service, and nice presentation. I had the curry custard and it was very yummy. I was hoping to bring the coconut home but that didn't happen. Would b nice to keep my leftovers in the coconut (w a branded logo), what a great way to advertise their restaurant?</th>\n",
       "      <td>0</td>\n",
       "      <td>1</td>\n",
       "      <td>1</td>\n",
       "    </tr>\n",
       "    <tr>\n",
       "      <th>There are so many great places to eat in Scottsdale and this is not one of them. The staff was awkward and the food was very bland. Not what we were expecting from a place with \"culinary\" in the name.</th>\n",
       "      <td>1</td>\n",
       "      <td>0</td>\n",
       "      <td>1</td>\n",
       "    </tr>\n",
       "    <tr>\n",
       "      <th>We came here on a Friday night Dec 2. Didn't realize it until I read other reviews that today was their grand opening. Walking up to the Zen, the patio tables looking very enticing but cold outside. As you walk in the front door is a nice little waterfall. Nice touch. Anyways, they have a huge dining area. Bar area with lots of seating and a dining area. Very bright with red and orange. Very well decorated, wide open feeling with a somewhat touch of Asian. Bar area has three large tv's with large windows where you can see the kitchen. Anyways, we dined in the dining area with the booths. We were greeted right away with our water cups. We started off with the Tuna Mango Poke. It had a whole avocado cut in half with Tuna Poke and Mango. Very well presented. It was good but lacked a little flavor. I had the Pad Thai with beef. It had on the side, peanuts and dry peppers to spice it up. I thought it was pretty good. Not too sweet. For those of you that like your really spicy Thai food, probably wouldn't be spicy enough for you but I really liked it. Decent portion. My wife had the Noodle soup with chicken. She really likes it and I was able to sneak a few bites and it was pretty good. The noodles were good and the soup was really good for a chilly night. My son had the baby back ribs. He liked it. The sauce had a little Asian flare to it with crispy fries. He ate it all up so it must have been pretty good. Service was pretty good. He was always checking on us and made sure our water cups were filled. So Zen had pretty good food, good service, and a pretty unique ambiance about this place. I will tell you what, this place has Japanese, Vietnamese, Thai, and American food in a unique setting. Now if you want original Asian food then this place isn't for you. Keep an open mind and just enjoy. I know they have some kinks but I'm sure they will fix them. I'm looking forward to coming back and trying other dishes on the menu. Enjoy. I sure did.</th>\n",
       "      <td>0</td>\n",
       "      <td>1</td>\n",
       "      <td>1</td>\n",
       "    </tr>\n",
       "    <tr>\n",
       "      <th>All</th>\n",
       "      <td>1</td>\n",
       "      <td>3</td>\n",
       "      <td>4</td>\n",
       "    </tr>\n",
       "  </tbody>\n",
       "</table>\n",
       "</div>"
      ],
      "text/plain": [
       "Actual Rating                                       negative  positive  All\n",
       "Reviews                                                                    \n",
       "Fresh and tasty new dishes, really friendly sta...         0         1    1\n",
       "Great foods, great service, and nice presentati...         0         1    1\n",
       "There are so many great places to eat in Scotts...         1         0    1\n",
       "We came here on a Friday night Dec 2. Didn't re...         0         1    1\n",
       "All                                                        1         3    4"
      ]
     },
     "metadata": {},
     "output_type": "display_data"
    }
   ],
   "source": [
    "display(pd.crosstab( data[-4:], target[-4:], rownames=['Reviews'], colnames=['Actual Rating'], margins=True))"
   ]
  },
  {
   "cell_type": "markdown",
   "metadata": {},
   "source": [
    "Predicted Ratings"
   ]
  },
  {
   "cell_type": "code",
   "execution_count": 25,
   "metadata": {},
   "outputs": [
    {
     "data": {
      "text/html": [
       "<div>\n",
       "<style scoped>\n",
       "    .dataframe tbody tr th:only-of-type {\n",
       "        vertical-align: middle;\n",
       "    }\n",
       "\n",
       "    .dataframe tbody tr th {\n",
       "        vertical-align: top;\n",
       "    }\n",
       "\n",
       "    .dataframe thead th {\n",
       "        text-align: right;\n",
       "    }\n",
       "</style>\n",
       "<table border=\"1\" class=\"dataframe\">\n",
       "  <thead>\n",
       "    <tr style=\"text-align: right;\">\n",
       "      <th>Predicted Rating</th>\n",
       "      <th>negative</th>\n",
       "      <th>positive</th>\n",
       "      <th>All</th>\n",
       "    </tr>\n",
       "    <tr>\n",
       "      <th>Reviews</th>\n",
       "      <th></th>\n",
       "      <th></th>\n",
       "      <th></th>\n",
       "    </tr>\n",
       "  </thead>\n",
       "  <tbody>\n",
       "    <tr>\n",
       "      <th>Fresh and tasty new dishes, really friendly staff. Super cool design and flow, great atmosphere and menu! Will def be back, lots of authentic but new school asian dishes.</th>\n",
       "      <td>0</td>\n",
       "      <td>1</td>\n",
       "      <td>1</td>\n",
       "    </tr>\n",
       "    <tr>\n",
       "      <th>Great foods, great service, and nice presentation. I had the curry custard and it was very yummy. I was hoping to bring the coconut home but that didn't happen. Would b nice to keep my leftovers in the coconut (w a branded logo), what a great way to advertise their restaurant?</th>\n",
       "      <td>0</td>\n",
       "      <td>1</td>\n",
       "      <td>1</td>\n",
       "    </tr>\n",
       "    <tr>\n",
       "      <th>There are so many great places to eat in Scottsdale and this is not one of them. The staff was awkward and the food was very bland. Not what we were expecting from a place with \"culinary\" in the name.</th>\n",
       "      <td>1</td>\n",
       "      <td>0</td>\n",
       "      <td>1</td>\n",
       "    </tr>\n",
       "    <tr>\n",
       "      <th>We came here on a Friday night Dec 2. Didn't realize it until I read other reviews that today was their grand opening. Walking up to the Zen, the patio tables looking very enticing but cold outside. As you walk in the front door is a nice little waterfall. Nice touch. Anyways, they have a huge dining area. Bar area with lots of seating and a dining area. Very bright with red and orange. Very well decorated, wide open feeling with a somewhat touch of Asian. Bar area has three large tv's with large windows where you can see the kitchen. Anyways, we dined in the dining area with the booths. We were greeted right away with our water cups. We started off with the Tuna Mango Poke. It had a whole avocado cut in half with Tuna Poke and Mango. Very well presented. It was good but lacked a little flavor. I had the Pad Thai with beef. It had on the side, peanuts and dry peppers to spice it up. I thought it was pretty good. Not too sweet. For those of you that like your really spicy Thai food, probably wouldn't be spicy enough for you but I really liked it. Decent portion. My wife had the Noodle soup with chicken. She really likes it and I was able to sneak a few bites and it was pretty good. The noodles were good and the soup was really good for a chilly night. My son had the baby back ribs. He liked it. The sauce had a little Asian flare to it with crispy fries. He ate it all up so it must have been pretty good. Service was pretty good. He was always checking on us and made sure our water cups were filled. So Zen had pretty good food, good service, and a pretty unique ambiance about this place. I will tell you what, this place has Japanese, Vietnamese, Thai, and American food in a unique setting. Now if you want original Asian food then this place isn't for you. Keep an open mind and just enjoy. I know they have some kinks but I'm sure they will fix them. I'm looking forward to coming back and trying other dishes on the menu. Enjoy. I sure did.</th>\n",
       "      <td>0</td>\n",
       "      <td>1</td>\n",
       "      <td>1</td>\n",
       "    </tr>\n",
       "    <tr>\n",
       "      <th>All</th>\n",
       "      <td>1</td>\n",
       "      <td>3</td>\n",
       "      <td>4</td>\n",
       "    </tr>\n",
       "  </tbody>\n",
       "</table>\n",
       "</div>"
      ],
      "text/plain": [
       "Predicted Rating                                    negative  positive  All\n",
       "Reviews                                                                    \n",
       "Fresh and tasty new dishes, really friendly sta...         0         1    1\n",
       "Great foods, great service, and nice presentati...         0         1    1\n",
       "There are so many great places to eat in Scotts...         1         0    1\n",
       "We came here on a Friday night Dec 2. Didn't re...         0         1    1\n",
       "All                                                        1         3    4"
      ]
     },
     "metadata": {},
     "output_type": "display_data"
    }
   ],
   "source": [
    "test_data = vectorizer.transform(data[-4:])\n",
    "pred = bar_model.predict(test_data)\n",
    "display(pd.crosstab( data[-4:],pred,rownames=['Reviews'], colnames=['Predicted Rating'], margins=True))"
   ]
  },
  {
   "cell_type": "markdown",
   "metadata": {},
   "source": [
    "### Evaluate Model 1"
   ]
  },
  {
   "cell_type": "markdown",
   "metadata": {},
   "source": [
    "#### Confusion Matrix"
   ]
  },
  {
   "cell_type": "markdown",
   "metadata": {},
   "source": [
    "The confusion matrix shows the amount of predictions which were correct for each label. We have more than 10 items misclassified as positive when they were actually negative. Around 20+ items were misclassified as negative when they were actually positive."
   ]
  },
  {
   "cell_type": "code",
   "execution_count": 26,
   "metadata": {},
   "outputs": [
    {
     "data": {
      "text/html": [
       "<div>\n",
       "<style scoped>\n",
       "    .dataframe tbody tr th:only-of-type {\n",
       "        vertical-align: middle;\n",
       "    }\n",
       "\n",
       "    .dataframe tbody tr th {\n",
       "        vertical-align: top;\n",
       "    }\n",
       "\n",
       "    .dataframe thead th {\n",
       "        text-align: right;\n",
       "    }\n",
       "</style>\n",
       "<table border=\"1\" class=\"dataframe\">\n",
       "  <thead>\n",
       "    <tr style=\"text-align: right;\">\n",
       "      <th>Predicted</th>\n",
       "      <th>negative</th>\n",
       "      <th>positive</th>\n",
       "      <th>All</th>\n",
       "    </tr>\n",
       "    <tr>\n",
       "      <th>Actual</th>\n",
       "      <th></th>\n",
       "      <th></th>\n",
       "      <th></th>\n",
       "    </tr>\n",
       "  </thead>\n",
       "  <tbody>\n",
       "    <tr>\n",
       "      <th>negative</th>\n",
       "      <td>98</td>\n",
       "      <td>15</td>\n",
       "      <td>113</td>\n",
       "    </tr>\n",
       "    <tr>\n",
       "      <th>positive</th>\n",
       "      <td>23</td>\n",
       "      <td>156</td>\n",
       "      <td>179</td>\n",
       "    </tr>\n",
       "    <tr>\n",
       "      <th>All</th>\n",
       "      <td>121</td>\n",
       "      <td>171</td>\n",
       "      <td>292</td>\n",
       "    </tr>\n",
       "  </tbody>\n",
       "</table>\n",
       "</div>"
      ],
      "text/plain": [
       "Predicted  negative  positive  All\n",
       "Actual                            \n",
       "negative         98        15  113\n",
       "positive         23       156  179\n",
       "All             121       171  292"
      ]
     },
     "metadata": {},
     "output_type": "display_data"
    }
   ],
   "source": [
    "display(pd.crosstab(np.array(y_test), predicted, rownames=['Actual'], colnames=['Predicted'], margins=True))"
   ]
  },
  {
   "cell_type": "markdown",
   "metadata": {},
   "source": [
    "#### Accuracy/F1 Score of the model on test set"
   ]
  },
  {
   "cell_type": "markdown",
   "metadata": {},
   "source": [
    "F1 score shows the harmonic mean between the precision & recall. The classifier has a good F1-Score as well as a good score of accuracy."
   ]
  },
  {
   "cell_type": "code",
   "execution_count": 27,
   "metadata": {},
   "outputs": [
    {
     "name": "stdout",
     "output_type": "stream",
     "text": [
      "Total accuracy classification score: 0.8698630136986302\n",
      "Total F1 classification score: 0.8645177045177045\n"
     ]
    }
   ],
   "source": [
    "acc_score = metrics.accuracy_score(y_test, predicted)\n",
    "f1_score = metrics.f1_score(y_test, predicted, average='macro')\n",
    "print('Total accuracy classification score: '+str(acc_score))\n",
    "print('Total F1 classification score: '+str(f1_score))"
   ]
  },
  {
   "cell_type": "markdown",
   "metadata": {},
   "source": [
    "### Model 2: K Nearest Neighbour"
   ]
  },
  {
   "cell_type": "code",
   "execution_count": 28,
   "metadata": {},
   "outputs": [],
   "source": [
    "# Create Model for K-Nearest Neighbour for 8 neighbours\n",
    "bar_model2 = KNeighborsClassifier(n_neighbors=8,p=2,n_jobs=-1)\n",
    "# Train Model on training data\n",
    "bar_model2.fit(X_train,y_train)\n",
    "# Predict using the model on test data\n",
    "predicted2 = bar_model2.predict(Xtest)"
   ]
  },
  {
   "cell_type": "markdown",
   "metadata": {},
   "source": [
    "### Evaluate Model 2"
   ]
  },
  {
   "cell_type": "markdown",
   "metadata": {},
   "source": [
    "#### Confusion Matrix"
   ]
  },
  {
   "cell_type": "markdown",
   "metadata": {},
   "source": [
    "The confusion matrix shows the amount of predictions which were correct for each label. We can see that we have 25+ items misclassified as positive when they were actually negative. We can see there are less items misclassified as negative when they were actually positive."
   ]
  },
  {
   "cell_type": "code",
   "execution_count": 29,
   "metadata": {},
   "outputs": [
    {
     "data": {
      "text/html": [
       "<div>\n",
       "<style scoped>\n",
       "    .dataframe tbody tr th:only-of-type {\n",
       "        vertical-align: middle;\n",
       "    }\n",
       "\n",
       "    .dataframe tbody tr th {\n",
       "        vertical-align: top;\n",
       "    }\n",
       "\n",
       "    .dataframe thead th {\n",
       "        text-align: right;\n",
       "    }\n",
       "</style>\n",
       "<table border=\"1\" class=\"dataframe\">\n",
       "  <thead>\n",
       "    <tr style=\"text-align: right;\">\n",
       "      <th>Predicted</th>\n",
       "      <th>negative</th>\n",
       "      <th>positive</th>\n",
       "      <th>All</th>\n",
       "    </tr>\n",
       "    <tr>\n",
       "      <th>Actual</th>\n",
       "      <th></th>\n",
       "      <th></th>\n",
       "      <th></th>\n",
       "    </tr>\n",
       "  </thead>\n",
       "  <tbody>\n",
       "    <tr>\n",
       "      <th>negative</th>\n",
       "      <td>86</td>\n",
       "      <td>27</td>\n",
       "      <td>113</td>\n",
       "    </tr>\n",
       "    <tr>\n",
       "      <th>positive</th>\n",
       "      <td>24</td>\n",
       "      <td>155</td>\n",
       "      <td>179</td>\n",
       "    </tr>\n",
       "    <tr>\n",
       "      <th>All</th>\n",
       "      <td>110</td>\n",
       "      <td>182</td>\n",
       "      <td>292</td>\n",
       "    </tr>\n",
       "  </tbody>\n",
       "</table>\n",
       "</div>"
      ],
      "text/plain": [
       "Predicted  negative  positive  All\n",
       "Actual                            \n",
       "negative         86        27  113\n",
       "positive         24       155  179\n",
       "All             110       182  292"
      ]
     },
     "metadata": {},
     "output_type": "display_data"
    }
   ],
   "source": [
    "display(pd.crosstab(np.array(y_test), predicted2, rownames=['Actual'], colnames=['Predicted'], margins=True))"
   ]
  },
  {
   "cell_type": "markdown",
   "metadata": {},
   "source": [
    "#### Accuracy/F1 Score of the model 2 on test set"
   ]
  },
  {
   "cell_type": "markdown",
   "metadata": {},
   "source": [
    "F1 score shows the harmonic mean between the precision & recall. The classifier has an average of 80%. This shows that model 2 is not as good as model 1 for classification."
   ]
  },
  {
   "cell_type": "code",
   "execution_count": 30,
   "metadata": {},
   "outputs": [
    {
     "name": "stdout",
     "output_type": "stream",
     "text": [
      "Total accuracy classification score: 0.8253424657534246\n",
      "Total F1 classification score: 0.8150131051016731\n"
     ]
    }
   ],
   "source": [
    "acc_score = metrics.accuracy_score(y_test, predicted2)\n",
    "f1_score = metrics.f1_score(y_test, predicted2, average='macro')\n",
    "print('Total accuracy classification score: '+str(acc_score))\n",
    "print('Total F1 classification score: '+str(f1_score))"
   ]
  },
  {
   "cell_type": "markdown",
   "metadata": {},
   "source": [
    "### Model 3: Passive Aggressive Classifier"
   ]
  },
  {
   "cell_type": "code",
   "execution_count": 31,
   "metadata": {},
   "outputs": [],
   "source": [
    "# Create Model for Passive Aggressive Classifier\n",
    "bar_model3 = PassiveAggressiveClassifier(max_iter=10000, random_state=60,tol=1e-3)\n",
    "# Train Model on training data\n",
    "bar_model3.fit(X_train,y_train)\n",
    "# Predict using the model on test data\n",
    "predicted3 = bar_model3.predict(Xtest)"
   ]
  },
  {
   "cell_type": "markdown",
   "metadata": {},
   "source": [
    "### Evaluate Model 3"
   ]
  },
  {
   "cell_type": "markdown",
   "metadata": {},
   "source": [
    "#### Confusion Matrix"
   ]
  },
  {
   "cell_type": "code",
   "execution_count": 32,
   "metadata": {},
   "outputs": [
    {
     "data": {
      "text/html": [
       "<div>\n",
       "<style scoped>\n",
       "    .dataframe tbody tr th:only-of-type {\n",
       "        vertical-align: middle;\n",
       "    }\n",
       "\n",
       "    .dataframe tbody tr th {\n",
       "        vertical-align: top;\n",
       "    }\n",
       "\n",
       "    .dataframe thead th {\n",
       "        text-align: right;\n",
       "    }\n",
       "</style>\n",
       "<table border=\"1\" class=\"dataframe\">\n",
       "  <thead>\n",
       "    <tr style=\"text-align: right;\">\n",
       "      <th>Predicted</th>\n",
       "      <th>negative</th>\n",
       "      <th>positive</th>\n",
       "      <th>All</th>\n",
       "    </tr>\n",
       "    <tr>\n",
       "      <th>Actual</th>\n",
       "      <th></th>\n",
       "      <th></th>\n",
       "      <th></th>\n",
       "    </tr>\n",
       "  </thead>\n",
       "  <tbody>\n",
       "    <tr>\n",
       "      <th>negative</th>\n",
       "      <td>92</td>\n",
       "      <td>21</td>\n",
       "      <td>113</td>\n",
       "    </tr>\n",
       "    <tr>\n",
       "      <th>positive</th>\n",
       "      <td>24</td>\n",
       "      <td>155</td>\n",
       "      <td>179</td>\n",
       "    </tr>\n",
       "    <tr>\n",
       "      <th>All</th>\n",
       "      <td>116</td>\n",
       "      <td>176</td>\n",
       "      <td>292</td>\n",
       "    </tr>\n",
       "  </tbody>\n",
       "</table>\n",
       "</div>"
      ],
      "text/plain": [
       "Predicted  negative  positive  All\n",
       "Actual                            \n",
       "negative         92        21  113\n",
       "positive         24       155  179\n",
       "All             116       176  292"
      ]
     },
     "metadata": {},
     "output_type": "display_data"
    }
   ],
   "source": [
    "display(pd.crosstab(np.array(y_test), predicted3, rownames=['Actual'], colnames=['Predicted'], margins=True))"
   ]
  },
  {
   "cell_type": "markdown",
   "metadata": {},
   "source": [
    "#### Accuracy/F1 Score of the model 3 on test set"
   ]
  },
  {
   "cell_type": "markdown",
   "metadata": {},
   "source": [
    "F1 score shows the harmonic mean between the precision & recall. The classifier has an average F1-Score of 84% with an accuracy of 84%. This shows that model 3 is better than model 2 but not as good as model 1 for classification."
   ]
  },
  {
   "cell_type": "code",
   "execution_count": 33,
   "metadata": {},
   "outputs": [
    {
     "name": "stdout",
     "output_type": "stream",
     "text": [
      "Total accuracy classification score: 0.8458904109589042\n",
      "Total F1 classification score: 0.838366443200689\n"
     ]
    }
   ],
   "source": [
    "acc_score = metrics.accuracy_score(y_test, predicted3)\n",
    "f1_score = metrics.f1_score(y_test, predicted3, average='macro')\n",
    "print('Total accuracy classification score: '+str(acc_score))\n",
    "print('Total F1 classification score: '+str(f1_score))"
   ]
  },
  {
   "cell_type": "markdown",
   "metadata": {},
   "source": [
    "### Model 4: SVM"
   ]
  },
  {
   "cell_type": "code",
   "execution_count": 34,
   "metadata": {},
   "outputs": [],
   "source": [
    "# Create Model for SVM\n",
    "bar_model4 = SVC(gamma='scale')\n",
    "# Train Model on training data\n",
    "bar_model4.fit(X_train,y_train)\n",
    "# Predict using the model on test data\n",
    "predicted4 = bar_model4.predict(Xtest)"
   ]
  },
  {
   "cell_type": "markdown",
   "metadata": {},
   "source": [
    "### Evaluate Model 4"
   ]
  },
  {
   "cell_type": "markdown",
   "metadata": {},
   "source": [
    "#### Confusion Matrix"
   ]
  },
  {
   "cell_type": "code",
   "execution_count": 35,
   "metadata": {},
   "outputs": [
    {
     "data": {
      "text/html": [
       "<div>\n",
       "<style scoped>\n",
       "    .dataframe tbody tr th:only-of-type {\n",
       "        vertical-align: middle;\n",
       "    }\n",
       "\n",
       "    .dataframe tbody tr th {\n",
       "        vertical-align: top;\n",
       "    }\n",
       "\n",
       "    .dataframe thead th {\n",
       "        text-align: right;\n",
       "    }\n",
       "</style>\n",
       "<table border=\"1\" class=\"dataframe\">\n",
       "  <thead>\n",
       "    <tr style=\"text-align: right;\">\n",
       "      <th>Predicted</th>\n",
       "      <th>negative</th>\n",
       "      <th>positive</th>\n",
       "      <th>All</th>\n",
       "    </tr>\n",
       "    <tr>\n",
       "      <th>Actual</th>\n",
       "      <th></th>\n",
       "      <th></th>\n",
       "      <th></th>\n",
       "    </tr>\n",
       "  </thead>\n",
       "  <tbody>\n",
       "    <tr>\n",
       "      <th>negative</th>\n",
       "      <td>90</td>\n",
       "      <td>23</td>\n",
       "      <td>113</td>\n",
       "    </tr>\n",
       "    <tr>\n",
       "      <th>positive</th>\n",
       "      <td>12</td>\n",
       "      <td>167</td>\n",
       "      <td>179</td>\n",
       "    </tr>\n",
       "    <tr>\n",
       "      <th>All</th>\n",
       "      <td>102</td>\n",
       "      <td>190</td>\n",
       "      <td>292</td>\n",
       "    </tr>\n",
       "  </tbody>\n",
       "</table>\n",
       "</div>"
      ],
      "text/plain": [
       "Predicted  negative  positive  All\n",
       "Actual                            \n",
       "negative         90        23  113\n",
       "positive         12       167  179\n",
       "All             102       190  292"
      ]
     },
     "metadata": {},
     "output_type": "display_data"
    }
   ],
   "source": [
    "display(pd.crosstab(np.array(y_test), predicted4, rownames=['Actual'], colnames=['Predicted'], margins=True))"
   ]
  },
  {
   "cell_type": "markdown",
   "metadata": {},
   "source": [
    "#### Accuracy/F1 Score of the model 4 on test set"
   ]
  },
  {
   "cell_type": "code",
   "execution_count": 36,
   "metadata": {},
   "outputs": [
    {
     "name": "stdout",
     "output_type": "stream",
     "text": [
      "Total accuracy classification score: 0.8801369863013698\n",
      "Total F1 classification score: 0.8711791769080481\n"
     ]
    }
   ],
   "source": [
    "acc_score = metrics.accuracy_score(y_test, predicted4)\n",
    "f1_score = metrics.f1_score(y_test, predicted4, average='macro')\n",
    "print('Total accuracy classification score: '+str(acc_score))\n",
    "print('Total F1 classification score: '+str(f1_score))"
   ]
  },
  {
   "cell_type": "markdown",
   "metadata": {},
   "source": [
    "### Model 5: SVM without stemming"
   ]
  },
  {
   "cell_type": "code",
   "execution_count": 37,
   "metadata": {},
   "outputs": [],
   "source": [
    "# Learn Vocabulary & Transform words into TDIDF matrix using a different vectorizer with no stemming\n",
    "X_train = vectorizer_nostem.fit_transform(X)\n",
    "# Create Model for SVM\n",
    "bar_model5 = SVC(gamma='scale')\n",
    "# Train Model on training data\n",
    "bar_model5.fit(X_train,y_train)\n",
    "# Convert Test Set into TD-IDF representation\n",
    "Xtest = vectorizer_nostem.transform(X_test) \n",
    "# Predict using the model on test data\n",
    "predicted5 = bar_model5.predict(Xtest)"
   ]
  },
  {
   "cell_type": "markdown",
   "metadata": {},
   "source": [
    "### Evaluate Model 5"
   ]
  },
  {
   "cell_type": "markdown",
   "metadata": {},
   "source": [
    "#### Confusion Matrix"
   ]
  },
  {
   "cell_type": "code",
   "execution_count": 38,
   "metadata": {},
   "outputs": [
    {
     "data": {
      "text/html": [
       "<div>\n",
       "<style scoped>\n",
       "    .dataframe tbody tr th:only-of-type {\n",
       "        vertical-align: middle;\n",
       "    }\n",
       "\n",
       "    .dataframe tbody tr th {\n",
       "        vertical-align: top;\n",
       "    }\n",
       "\n",
       "    .dataframe thead th {\n",
       "        text-align: right;\n",
       "    }\n",
       "</style>\n",
       "<table border=\"1\" class=\"dataframe\">\n",
       "  <thead>\n",
       "    <tr style=\"text-align: right;\">\n",
       "      <th>Predicted</th>\n",
       "      <th>negative</th>\n",
       "      <th>positive</th>\n",
       "      <th>All</th>\n",
       "    </tr>\n",
       "    <tr>\n",
       "      <th>Actual</th>\n",
       "      <th></th>\n",
       "      <th></th>\n",
       "      <th></th>\n",
       "    </tr>\n",
       "  </thead>\n",
       "  <tbody>\n",
       "    <tr>\n",
       "      <th>negative</th>\n",
       "      <td>88</td>\n",
       "      <td>25</td>\n",
       "      <td>113</td>\n",
       "    </tr>\n",
       "    <tr>\n",
       "      <th>positive</th>\n",
       "      <td>12</td>\n",
       "      <td>167</td>\n",
       "      <td>179</td>\n",
       "    </tr>\n",
       "    <tr>\n",
       "      <th>All</th>\n",
       "      <td>100</td>\n",
       "      <td>192</td>\n",
       "      <td>292</td>\n",
       "    </tr>\n",
       "  </tbody>\n",
       "</table>\n",
       "</div>"
      ],
      "text/plain": [
       "Predicted  negative  positive  All\n",
       "Actual                            \n",
       "negative         88        25  113\n",
       "positive         12       167  179\n",
       "All             100       192  292"
      ]
     },
     "metadata": {},
     "output_type": "display_data"
    }
   ],
   "source": [
    "display(pd.crosstab(np.array(y_test), predicted5, rownames=['Actual'], colnames=['Predicted'], margins=True))"
   ]
  },
  {
   "cell_type": "markdown",
   "metadata": {},
   "source": [
    "#### Accuracy/F1 Score of the model 5 on test set"
   ]
  },
  {
   "cell_type": "code",
   "execution_count": 39,
   "metadata": {},
   "outputs": [
    {
     "name": "stdout",
     "output_type": "stream",
     "text": [
      "Total accuracy classification score: 0.8732876712328768\n",
      "Total F1 classification score: 0.8632803107955911\n"
     ]
    }
   ],
   "source": [
    "acc_score = metrics.accuracy_score(y_test, predicted5)\n",
    "f1_score = metrics.f1_score(y_test, predicted5, average='macro')\n",
    "print('Total accuracy classification score: '+str(acc_score))\n",
    "print('Total F1 classification score: '+str(f1_score))"
   ]
  },
  {
   "cell_type": "markdown",
   "metadata": {},
   "source": [
    "### Model 6: SVM with unigrams & bigram features"
   ]
  },
  {
   "cell_type": "code",
   "execution_count": 40,
   "metadata": {},
   "outputs": [],
   "source": [
    "# Learn Vocabulary & Transform words into TDIDF matrix using a different vectorizer \n",
    "X_train = vectorizer_bi.fit_transform(X)\n",
    "# Create Model for SVM\n",
    "bar_model6 = SVC(gamma='scale')\n",
    "# Train Model on training data\n",
    "bar_model6.fit(X_train,y_train)\n",
    "# Convert Test Set into TD-IDF representation\n",
    "Xtest = vectorizer_bi.transform(X_test)\n",
    "# Save test set for transfer learning test\n",
    "Bar_test = Xtest\n",
    "Bar_test_label = y_test\n",
    "# Predict using the model on test data\n",
    "predicted6 = bar_model6.predict(Xtest)"
   ]
  },
  {
   "cell_type": "markdown",
   "metadata": {},
   "source": [
    "### Evaluate Model 6"
   ]
  },
  {
   "cell_type": "markdown",
   "metadata": {},
   "source": [
    "#### Confusion Matrix"
   ]
  },
  {
   "cell_type": "code",
   "execution_count": 41,
   "metadata": {},
   "outputs": [
    {
     "data": {
      "text/html": [
       "<div>\n",
       "<style scoped>\n",
       "    .dataframe tbody tr th:only-of-type {\n",
       "        vertical-align: middle;\n",
       "    }\n",
       "\n",
       "    .dataframe tbody tr th {\n",
       "        vertical-align: top;\n",
       "    }\n",
       "\n",
       "    .dataframe thead th {\n",
       "        text-align: right;\n",
       "    }\n",
       "</style>\n",
       "<table border=\"1\" class=\"dataframe\">\n",
       "  <thead>\n",
       "    <tr style=\"text-align: right;\">\n",
       "      <th>Predicted</th>\n",
       "      <th>negative</th>\n",
       "      <th>positive</th>\n",
       "      <th>All</th>\n",
       "    </tr>\n",
       "    <tr>\n",
       "      <th>Actual</th>\n",
       "      <th></th>\n",
       "      <th></th>\n",
       "      <th></th>\n",
       "    </tr>\n",
       "  </thead>\n",
       "  <tbody>\n",
       "    <tr>\n",
       "      <th>negative</th>\n",
       "      <td>88</td>\n",
       "      <td>25</td>\n",
       "      <td>113</td>\n",
       "    </tr>\n",
       "    <tr>\n",
       "      <th>positive</th>\n",
       "      <td>8</td>\n",
       "      <td>171</td>\n",
       "      <td>179</td>\n",
       "    </tr>\n",
       "    <tr>\n",
       "      <th>All</th>\n",
       "      <td>96</td>\n",
       "      <td>196</td>\n",
       "      <td>292</td>\n",
       "    </tr>\n",
       "  </tbody>\n",
       "</table>\n",
       "</div>"
      ],
      "text/plain": [
       "Predicted  negative  positive  All\n",
       "Actual                            \n",
       "negative         88        25  113\n",
       "positive          8       171  179\n",
       "All              96       196  292"
      ]
     },
     "metadata": {},
     "output_type": "display_data"
    }
   ],
   "source": [
    "display(pd.crosstab(np.array(y_test), predicted6, rownames=['Actual'], colnames=['Predicted'], margins=True))"
   ]
  },
  {
   "cell_type": "markdown",
   "metadata": {},
   "source": [
    "#### Accuracy/F1 Score of the model 6 on test set"
   ]
  },
  {
   "cell_type": "code",
   "execution_count": 42,
   "metadata": {},
   "outputs": [
    {
     "name": "stdout",
     "output_type": "stream",
     "text": [
      "Total accuracy classification score: 0.886986301369863\n",
      "Total F1 classification score: 0.8770526315789473\n"
     ]
    }
   ],
   "source": [
    "acc_score = metrics.accuracy_score(y_test, predicted6)\n",
    "f1_score = metrics.f1_score(y_test, predicted6, average='macro')\n",
    "print('Total accuracy classification score: '+str(acc_score))\n",
    "print('Total F1 classification score: '+str(f1_score))"
   ]
  },
  {
   "cell_type": "markdown",
   "metadata": {},
   "source": [
    "### Model 7: Naive Bayes with unigrams & bigram features"
   ]
  },
  {
   "cell_type": "code",
   "execution_count": 43,
   "metadata": {},
   "outputs": [],
   "source": [
    "# Create Model for Naive Bayes\n",
    "bar_model7 = ComplementNB()\n",
    "# Train Model on training data\n",
    "bar_model7.fit(X_train,y_train)\n",
    "# Predict using the model on test data\n",
    "predicted7 = bar_model7.predict(Xtest)"
   ]
  },
  {
   "cell_type": "markdown",
   "metadata": {},
   "source": [
    "### Evaluate Model 7"
   ]
  },
  {
   "cell_type": "markdown",
   "metadata": {},
   "source": [
    "#### Confusion Matrix"
   ]
  },
  {
   "cell_type": "code",
   "execution_count": 44,
   "metadata": {},
   "outputs": [
    {
     "data": {
      "text/html": [
       "<div>\n",
       "<style scoped>\n",
       "    .dataframe tbody tr th:only-of-type {\n",
       "        vertical-align: middle;\n",
       "    }\n",
       "\n",
       "    .dataframe tbody tr th {\n",
       "        vertical-align: top;\n",
       "    }\n",
       "\n",
       "    .dataframe thead th {\n",
       "        text-align: right;\n",
       "    }\n",
       "</style>\n",
       "<table border=\"1\" class=\"dataframe\">\n",
       "  <thead>\n",
       "    <tr style=\"text-align: right;\">\n",
       "      <th>Predicted</th>\n",
       "      <th>negative</th>\n",
       "      <th>positive</th>\n",
       "      <th>All</th>\n",
       "    </tr>\n",
       "    <tr>\n",
       "      <th>Actual</th>\n",
       "      <th></th>\n",
       "      <th></th>\n",
       "      <th></th>\n",
       "    </tr>\n",
       "  </thead>\n",
       "  <tbody>\n",
       "    <tr>\n",
       "      <th>negative</th>\n",
       "      <td>99</td>\n",
       "      <td>14</td>\n",
       "      <td>113</td>\n",
       "    </tr>\n",
       "    <tr>\n",
       "      <th>positive</th>\n",
       "      <td>28</td>\n",
       "      <td>151</td>\n",
       "      <td>179</td>\n",
       "    </tr>\n",
       "    <tr>\n",
       "      <th>All</th>\n",
       "      <td>127</td>\n",
       "      <td>165</td>\n",
       "      <td>292</td>\n",
       "    </tr>\n",
       "  </tbody>\n",
       "</table>\n",
       "</div>"
      ],
      "text/plain": [
       "Predicted  negative  positive  All\n",
       "Actual                            \n",
       "negative         99        14  113\n",
       "positive         28       151  179\n",
       "All             127       165  292"
      ]
     },
     "metadata": {},
     "output_type": "display_data"
    }
   ],
   "source": [
    "display(pd.crosstab(np.array(y_test), predicted7, rownames=['Actual'], colnames=['Predicted'], margins=True))"
   ]
  },
  {
   "cell_type": "markdown",
   "metadata": {},
   "source": [
    "#### Accuracy/F1 Score of the model 7 on test set"
   ]
  },
  {
   "cell_type": "code",
   "execution_count": 45,
   "metadata": {},
   "outputs": [
    {
     "name": "stdout",
     "output_type": "stream",
     "text": [
      "Total accuracy classification score: 0.8561643835616438\n",
      "Total F1 classification score: 0.851453488372093\n"
     ]
    }
   ],
   "source": [
    "acc_score = metrics.accuracy_score(y_test, predicted7)\n",
    "f1_score = metrics.f1_score(y_test, predicted7, average='macro')\n",
    "print('Total accuracy classification score: '+str(acc_score))\n",
    "print('Total F1 classification score: '+str(f1_score))"
   ]
  },
  {
   "cell_type": "markdown",
   "metadata": {},
   "source": [
    "### ROC/AUC for Models"
   ]
  },
  {
   "cell_type": "code",
   "execution_count": 46,
   "metadata": {},
   "outputs": [
    {
     "data": {
      "image/png": "[encoded data removed]",
      "text/plain": [
       "<Figure size 1080x504 with 1 Axes>"
      ]
     },
     "metadata": {},
     "output_type": "display_data"
    }
   ],
   "source": [
    "# Map rating to binary values\n",
    "y_test_bin = y_test.replace({'positive':1,'negative':0})\n",
    "pred_bin = pd.DataFrame(predicted).replace({'positive':1,'negative':0})\n",
    "pred2_bin = pd.DataFrame(predicted2).replace({'positive':1,'negative':0})\n",
    "pred3_bin = pd.DataFrame(predicted3).replace({'positive':1,'negative':0})\n",
    "pred4_bin = pd.DataFrame(predicted4).replace({'positive':1,'negative':0})\n",
    "pred5_bin = pd.DataFrame(predicted5).replace({'positive':1,'negative':0})\n",
    "pred6_bin = pd.DataFrame(predicted6).replace({'positive':1,'negative':0})\n",
    "pred7_bin = pd.DataFrame(predicted7).replace({'positive':1,'negative':0})\n",
    "plt.figure(figsize=(15,7))\n",
    "# Plot ROC curve\n",
    "plt.rcParams['font.size'] = 12\n",
    "plt.title('ROC curve for each classifier')\n",
    "plt.xlabel('False Positive Rate (1 - Specificity)')\n",
    "plt.ylabel('True Positive Rate (Sensitivity)')\n",
    "plt.grid(True)\n",
    "# Fetch ROC & AUC for Naive Bayes Classification\n",
    "fpr, tpr, thresh = metrics.roc_curve(y_test_bin, pred_bin)\n",
    "auc = metrics.roc_auc_score(y_test_bin, pred_bin)\n",
    "plt.plot(fpr,tpr,label=\"Naive Bayes, auc=\"+str(auc))\n",
    "# Fetch ROC & AUC for KNN Classification\n",
    "fpr, tpr, thresh = metrics.roc_curve(y_test_bin, pred2_bin)\n",
    "auc = metrics.roc_auc_score(y_test_bin, pred2_bin)\n",
    "plt.plot(fpr,tpr,label=\"KNN, auc=\"+str(auc))\n",
    "# Fetch ROC & AUC for Passive Aggressive Classification\n",
    "fpr, tpr, thresh = metrics.roc_curve(y_test_bin, pred3_bin)\n",
    "auc = metrics.roc_auc_score(y_test_bin, pred3_bin)\n",
    "plt.plot(fpr,tpr,label=\"Passive Aggressive Classifier, auc=\"+str(auc))\n",
    "# Fetch ROC & AUC for SVM\n",
    "fpr, tpr, thresh = metrics.roc_curve(y_test_bin, pred4_bin)\n",
    "auc = metrics.roc_auc_score(y_test_bin, pred4_bin)\n",
    "plt.plot(fpr,tpr,label=\"SVM, auc=\"+str(auc))\n",
    "# Fetch ROC & AUC for SVM without stemming\n",
    "fpr, tpr, thresh = metrics.roc_curve(y_test_bin, pred5_bin)\n",
    "auc = metrics.roc_auc_score(y_test_bin, pred5_bin)\n",
    "plt.plot(fpr,tpr,label=\"SVM (without stemming), auc=\"+str(auc))\n",
    "# Fetch ROC & AUC for SVM including bigram features\n",
    "fpr, tpr, thresh = metrics.roc_curve(y_test_bin, pred6_bin)\n",
    "auc = metrics.roc_auc_score(y_test_bin, pred6_bin)\n",
    "plt.plot(fpr,tpr,label=\"SVM (with bigrams), auc=\"+str(auc))\n",
    "# Fetch ROC & AUC for Naive Bayes including bigram features\n",
    "fpr, tpr, thresh = metrics.roc_curve(y_test_bin, pred7_bin)\n",
    "auc = metrics.roc_auc_score(y_test_bin, pred7_bin)\n",
    "plt.plot(fpr,tpr,label=\"Naive Bayes (with bigrams), auc=\"+str(auc))\n",
    "plt.legend(loc=0)\n",
    "plt.show()"
   ]
  },
  {
   "cell_type": "markdown",
   "metadata": {},
   "source": [
    "The above figure shows us that even though SVM with bigrams has higher accuracy, Naive Bayes performs much better than the other classifiers with a high early true positive rate for lower false positive rates. Higher AUC also shows that Naive Bayes classifier is better. This could be because of the specific test set chosen, hence for a better comparison we perform a 10-fold validation as shown below."
   ]
  },
  {
   "cell_type": "markdown",
   "metadata": {},
   "source": [
    "### Evaluate & Compare Classifiers For Bar Dataset"
   ]
  },
  {
   "cell_type": "markdown",
   "metadata": {},
   "source": [
    "To Compare the models, we use a cross validation using a 10-fold validation and compare the performance to confirm which is the better model."
   ]
  },
  {
   "cell_type": "markdown",
   "metadata": {},
   "source": [
    "##### Naive Bayes Classifier"
   ]
  },
  {
   "cell_type": "markdown",
   "metadata": {},
   "source": [
    "#### Average Accuracy of Model 1 using a 10-fold Cross Validation"
   ]
  },
  {
   "cell_type": "code",
   "execution_count": 47,
   "metadata": {},
   "outputs": [
    {
     "name": "stdout",
     "output_type": "stream",
     "text": [
      "Accuracy :  0.8363265306122448  +/-  0.03043488950557057\n",
      "F1-Score :  0.8295453375967984  +/-  0.03191162792728049\n"
     ]
    }
   ],
   "source": [
    "scores = dict()\n",
    "f1_scores = dict()\n",
    "# Get numerical form of dataset based on model features\n",
    "X = vectorizer.transform(data)\n",
    "# Metrics\n",
    "scoring = ['accuracy', 'f1_macro']\n",
    "# Perform Cross Validation\n",
    "score=cross_validate(bar_model, X, target, cv=10, scoring=scoring, n_jobs=-1,return_train_score=False)\n",
    "# Store for plotting\n",
    "scores['Naive_Bayes'] = np.mean(score['test_accuracy'])\n",
    "print(\"Accuracy : \",np.mean(score['test_accuracy']), \" +/- \", np.std(score['test_accuracy']))\n",
    "# Store for plotting\n",
    "f1_scores['Naive_Bayes'] = np.mean(score['test_f1_macro'])\n",
    "print(\"F1-Score : \",np.mean(score['test_f1_macro']), \" +/- \", np.std(score['test_f1_macro']))"
   ]
  },
  {
   "cell_type": "markdown",
   "metadata": {},
   "source": [
    "##### K Nearest Neighbour"
   ]
  },
  {
   "cell_type": "markdown",
   "metadata": {},
   "source": [
    "#### Average Accuracy of Model 2 using a 10-fold Cross Validation"
   ]
  },
  {
   "cell_type": "code",
   "execution_count": 48,
   "metadata": {},
   "outputs": [
    {
     "name": "stdout",
     "output_type": "stream",
     "text": [
      "Accuracy :  0.7596481351161154  +/-  0.03972247375213797\n",
      "F1-Score :  0.7480539278886845  +/-  0.040653315828349336\n"
     ]
    }
   ],
   "source": [
    "# Perform Cross Validation\n",
    "score=cross_validate(bar_model2, X, target, cv=10, scoring=scoring, n_jobs=-1,return_train_score=False)\n",
    "# Store for plotting\n",
    "scores['KNN'] = np.mean(score['test_accuracy'])\n",
    "print(\"Accuracy : \",np.mean(score['test_accuracy']), \" +/- \", np.std(score['test_accuracy']))\n",
    "# Store for plotting\n",
    "f1_scores['KNN'] = np.mean(score['test_f1_macro'])\n",
    "print(\"F1-Score : \",np.mean(score['test_f1_macro']), \" +/- \", np.std(score['test_f1_macro']))"
   ]
  },
  {
   "cell_type": "markdown",
   "metadata": {},
   "source": [
    "##### Passive Aggressive Classifier"
   ]
  },
  {
   "cell_type": "markdown",
   "metadata": {},
   "source": [
    "#### Average Accuracy of Model 3 using a 10-fold Cross Validation"
   ]
  },
  {
   "cell_type": "code",
   "execution_count": 49,
   "metadata": {},
   "outputs": [
    {
     "name": "stdout",
     "output_type": "stream",
     "text": [
      "Accuracy :  0.7985831574008914  +/-  0.03664566739184611\n",
      "F1-Score :  0.7884054266257957  +/-  0.03799569535811975\n"
     ]
    }
   ],
   "source": [
    "# Perform Cross Validation\n",
    "score=cross_validate(bar_model3, X, target, cv=10, scoring=scoring, n_jobs=-1,return_train_score=False)\n",
    "# Store for plotting\n",
    "scores['Passive Aggressive'] = np.mean(score['test_accuracy'])\n",
    "print(\"Accuracy : \",np.mean(score['test_accuracy']), \" +/- \", np.std(score['test_accuracy']))\n",
    "# Store for plotting\n",
    "f1_scores['Passive Aggressive'] = np.mean(score['test_f1_macro'])\n",
    "print(\"F1-Score : \",np.mean(score['test_f1_macro']), \" +/- \", np.std(score['test_f1_macro']))"
   ]
  },
  {
   "cell_type": "markdown",
   "metadata": {},
   "source": [
    "##### SVM"
   ]
  },
  {
   "cell_type": "markdown",
   "metadata": {},
   "source": [
    "#### Average Accuracy of Model 4 using a 10-fold Cross Validation"
   ]
  },
  {
   "cell_type": "code",
   "execution_count": 50,
   "metadata": {},
   "outputs": [
    {
     "name": "stdout",
     "output_type": "stream",
     "text": [
      "Accuracy :  0.8411165845648604  +/-  0.03468759591264589\n",
      "F1-Score :  0.8278052188864479  +/-  0.03607709139960988\n"
     ]
    }
   ],
   "source": [
    "# Perform Cross Validation\n",
    "score=cross_validate(bar_model4, X, target, cv=10, scoring=scoring, n_jobs=-1,return_train_score=False)\n",
    "# Store for plotting\n",
    "scores['SVM'] = np.mean(score['test_accuracy'])\n",
    "print(\"Accuracy : \",np.mean(score['test_accuracy']), \" +/- \", np.std(score['test_accuracy']))\n",
    "# Store for plotting\n",
    "f1_scores['SVM'] = np.mean(score['test_f1_macro'])\n",
    "print(\"F1-Score : \",np.mean(score['test_f1_macro']), \" +/- \", np.std(score['test_f1_macro']))"
   ]
  },
  {
   "cell_type": "markdown",
   "metadata": {},
   "source": [
    "##### SVM without stemming"
   ]
  },
  {
   "cell_type": "markdown",
   "metadata": {},
   "source": [
    "#### Average Accuracy of Model 5 using a 10-fold Cross Validation"
   ]
  },
  {
   "cell_type": "code",
   "execution_count": 51,
   "metadata": {},
   "outputs": [
    {
     "name": "stdout",
     "output_type": "stream",
     "text": [
      "Accuracy :  0.8417499413558526  +/-  0.02879847365631664\n",
      "F1-Score :  0.8266752014925751  +/-  0.033964870332814284\n"
     ]
    }
   ],
   "source": [
    "# Get numerical form of dataset based on model features\n",
    "X = vectorizer_nostem.transform(data)\n",
    "# Perform Cross Validation\n",
    "score=cross_validate(bar_model5, X, target, cv=10, scoring=scoring, n_jobs=-1,return_train_score=False)\n",
    "# Store for plotting\n",
    "scores['SVM without stemming'] = np.mean(score['test_accuracy'])\n",
    "print(\"Accuracy : \",np.mean(score['test_accuracy']), \" +/- \", np.std(score['test_accuracy']))\n",
    "# Store for plotting\n",
    "f1_scores['SVM without stemming'] = np.mean(score['test_f1_macro'])\n",
    "print(\"F1-Score : \",np.mean(score['test_f1_macro']), \" +/- \", np.std(score['test_f1_macro']))"
   ]
  },
  {
   "cell_type": "markdown",
   "metadata": {},
   "source": [
    "##### SVM with bigram"
   ]
  },
  {
   "cell_type": "markdown",
   "metadata": {},
   "source": [
    "#### Average Accuracy of Model 6 using a 10-fold Cross Validation"
   ]
  },
  {
   "cell_type": "code",
   "execution_count": 52,
   "metadata": {},
   "outputs": [
    {
     "name": "stdout",
     "output_type": "stream",
     "text": [
      "Accuracy :  0.8438470560638048  +/-  0.028446295093382666\n",
      "F1-Score :  0.8303024204171562  +/-  0.029549228661009775\n"
     ]
    }
   ],
   "source": [
    "# Get numerical form of dataset based on model features\n",
    "X = vectorizer_bi.transform(data)\n",
    "# Perform Cross Validation\n",
    "score=cross_validate(bar_model6, X, target, cv=10, scoring=scoring, n_jobs=-1,return_train_score=False)\n",
    "# Store for plotting\n",
    "scores['SVM with bigrams'] = np.mean(score['test_accuracy'])\n",
    "print(\"Accuracy : \",np.mean(score['test_accuracy']), \" +/- \", np.std(score['test_accuracy']))\n",
    "# Store for plotting\n",
    "f1_scores['SVM with bigrams'] = np.mean(score['test_f1_macro'])\n",
    "print(\"F1-Score : \",np.mean(score['test_f1_macro']), \" +/- \", np.std(score['test_f1_macro']))"
   ]
  },
  {
   "cell_type": "markdown",
   "metadata": {},
   "source": [
    "##### Naive Bayes with bigram"
   ]
  },
  {
   "cell_type": "markdown",
   "metadata": {},
   "source": [
    "#### Average Accuracy of Model 7 using a 10-fold Cross Validation"
   ]
  },
  {
   "cell_type": "code",
   "execution_count": 53,
   "metadata": {},
   "outputs": [
    {
     "name": "stdout",
     "output_type": "stream",
     "text": [
      "Accuracy :  0.8350129017124092  +/-  0.041867577939015126\n",
      "F1-Score :  0.8289732423437315  +/-  0.04178256247389615\n"
     ]
    }
   ],
   "source": [
    "# Perform Cross Validation\n",
    "score=cross_validate(bar_model7, X, target, cv=10, scoring=scoring, n_jobs=-1,return_train_score=False)\n",
    "# Store for plotting\n",
    "scores['Naive Bayes with bigrams'] = np.mean(score['test_accuracy'])\n",
    "print(\"Accuracy : \",np.mean(score['test_accuracy']), \" +/- \", np.std(score['test_accuracy']))\n",
    "# Store for plotting\n",
    "f1_scores['Naive Bayes with bigrams'] = np.mean(score['test_f1_macro'])\n",
    "print(\"F1-Score : \",np.mean(score['test_f1_macro']), \" +/- \", np.std(score['test_f1_macro']))"
   ]
  },
  {
   "cell_type": "markdown",
   "metadata": {},
   "source": [
    "#### Compare All Models for the dataset"
   ]
  },
  {
   "cell_type": "code",
   "execution_count": 54,
   "metadata": {},
   "outputs": [
    {
     "data": {
      "image/png": "[encoded data removed]",
      "text/plain": [
       "<Figure size 1080x504 with 1 Axes>"
      ]
     },
     "metadata": {},
     "output_type": "display_data"
    },
    {
     "data": {
      "image/png": "[encoded data removed]",
      "text/plain": [
       "<Figure size 1080x504 with 1 Axes>"
      ]
     },
     "metadata": {},
     "output_type": "display_data"
    }
   ],
   "source": [
    "plot_graph(scores,\"Accuracy of Different Classifiers on Bar Dataset\",prune=True)\n",
    "plot_graph(f1_scores,\"F1-Scores of Different Classifiers on Bar Dataset\",ytitle=\"F1-Score\",prune=True)"
   ]
  },
  {
   "cell_type": "markdown",
   "metadata": {},
   "source": [
    "We can see that SVM with unigrams + bigrams outperforms the other classifiers on a 10-fold cross validation and can be chosen as the best model for the dataset.\n",
    "Store the best model for later use."
   ]
  },
  {
   "cell_type": "code",
   "execution_count": 55,
   "metadata": {},
   "outputs": [],
   "source": [
    "best_bar_model = bar_model6\n",
    "bar_vectorizer = vectorizer_bi"
   ]
  },
  {
   "cell_type": "markdown",
   "metadata": {},
   "source": [
    "## Create Classifier for Restaurants"
   ]
  },
  {
   "cell_type": "markdown",
   "metadata": {},
   "source": [
    "Get data & labels for bars"
   ]
  },
  {
   "cell_type": "code",
   "execution_count": 56,
   "metadata": {},
   "outputs": [],
   "source": [
    "data_2 = dataset2.review \n",
    "target_2 = dataset2.rating"
   ]
  },
  {
   "cell_type": "markdown",
   "metadata": {},
   "source": [
    "### Divide dataset into training & testing (20% of dataset for testing)"
   ]
  },
  {
   "cell_type": "code",
   "execution_count": 57,
   "metadata": {},
   "outputs": [
    {
     "name": "stdout",
     "output_type": "stream",
     "text": [
      "Training set has 1152 samples\n",
      "Test set has 288 samples\n"
     ]
    }
   ],
   "source": [
    "# The split is stratified meaning it will have equal number of both target classes in the training/test set\n",
    "X, X_test, y_train, y_test = train_test_split(data_2, target_2, test_size=0.2,stratify=target_2,random_state=60)\n",
    "print(\"Training set has %d samples\" % X.shape[0] )\n",
    "print(\"Test set has %d samples\" % X_test.shape[0] )"
   ]
  },
  {
   "cell_type": "markdown",
   "metadata": {},
   "source": [
    "### Numeric representation(Sample) of Restaurants"
   ]
  },
  {
   "cell_type": "code",
   "execution_count": 58,
   "metadata": {},
   "outputs": [
    {
     "name": "stdout",
     "output_type": "stream",
     "text": [
      "  (28, 0)\t0.2558777241036141\n",
      "  (40, 0)\t0.20744206065055404\n",
      "  (126, 0)\t0.18418442659137635\n",
      "  (222, 0)\t0.31437285054068026\n",
      "  (323, 0)\t0.17427486051945823\n",
      "  (422, 0)\t0.20640225175243213\n",
      "  (435, 0)\t0.15337189371977134\n",
      "  (603, 0)\t0.3362914116181492\n",
      "  (636, 0)\t0.20878051783103274\n",
      "  (696, 0)\t0.22385928669376268\n",
      "  (714, 0)\t0.2091517591738323\n",
      "  (937, 0)\t0.4353922589634067\n",
      "  (993, 0)\t0.31506407738160586\n",
      "  (1095, 0)\t0.17894844502910914\n"
     ]
    }
   ],
   "source": [
    "# Learn Vocabulary & Transform words into TDIDF matrix\n",
    "# Default vectorizer with stemming for unigrams\n",
    "vectorizer = TfidfVectorizer(min_df = 10,strip_accents='unicode',sublinear_tf=True,tokenizer=custom_tokenizer,lowercase=True)\n",
    "# Vectorizer without stemming for unigrams\n",
    "vectorizer_nostem = TfidfVectorizer(min_df = 10,strip_accents='unicode',sublinear_tf=True,stop_words='english',lowercase=True)\n",
    "# Default vectorizer with stemming for unigrams & bigrams\n",
    "vectorizer_bi = TfidfVectorizer(min_df = 10,strip_accents='unicode',sublinear_tf=True,tokenizer=custom_tokenizer,lowercase=True,ngram_range=(1,2))\n",
    "X_train = vectorizer.fit_transform(X)\n",
    "print(X_train[:-1,-1])"
   ]
  },
  {
   "cell_type": "code",
   "execution_count": 59,
   "metadata": {},
   "outputs": [
    {
     "name": "stdout",
     "output_type": "stream",
     "text": [
      "Vocabulary has 990 features\n"
     ]
    }
   ],
   "source": [
    "terms = vectorizer.get_feature_names()\n",
    "print(\"Vocabulary has %d features\" % len(terms))"
   ]
  },
  {
   "cell_type": "markdown",
   "metadata": {},
   "source": [
    "#### Top 10 Features"
   ]
  },
  {
   "cell_type": "code",
   "execution_count": 60,
   "metadata": {},
   "outputs": [
    {
     "name": "stdout",
     "output_type": "stream",
     "text": [
      "food\n",
      "place\n",
      "good\n",
      "great\n",
      "order\n",
      "servic\n",
      "time\n",
      "like\n",
      "go\n",
      "back\n"
     ]
    }
   ],
   "source": [
    "# sum over the columns\n",
    "freqs = X_train.sum(axis=0)\n",
    "# sort indexes by value\n",
    "sorted_term_indexes = freqs.argsort()\n",
    "# reverse it\n",
    "sorted_term_indexes = sorted_term_indexes[0, ::-1]\n",
    "# display the top 10 terms\n",
    "for i in range(10):\n",
    "    term_index = sorted_term_indexes[0,i]\n",
    "    print(terms[term_index])"
   ]
  },
  {
   "cell_type": "markdown",
   "metadata": {},
   "source": [
    "### Model 1: Naive Bayes Classifier"
   ]
  },
  {
   "cell_type": "code",
   "execution_count": 61,
   "metadata": {},
   "outputs": [],
   "source": [
    "# Declare Naive Bayes Model\n",
    "rest_model = ComplementNB()\n",
    "# Train the model using training set\n",
    "rest_model.fit(X_train, y_train)\n",
    "# Convert Test Set into TD-IDF representation\n",
    "Xtest = vectorizer.transform(X_test) \n",
    "# Test the model using rest 20%\n",
    "predicted = rest_model.predict(Xtest)"
   ]
  },
  {
   "cell_type": "markdown",
   "metadata": {},
   "source": [
    "### Evaluate Model 1"
   ]
  },
  {
   "cell_type": "markdown",
   "metadata": {},
   "source": [
    "#### Confusion Matrix"
   ]
  },
  {
   "cell_type": "markdown",
   "metadata": {},
   "source": [
    "The confusion matrix shows the amount of predictions which were correct for each label. We can see that we have around 20+ items misclassified as positive when they were actually negative. We can see there are less items misclassified as negative when they were actually positive."
   ]
  },
  {
   "cell_type": "code",
   "execution_count": 62,
   "metadata": {},
   "outputs": [
    {
     "data": {
      "text/html": [
       "<div>\n",
       "<style scoped>\n",
       "    .dataframe tbody tr th:only-of-type {\n",
       "        vertical-align: middle;\n",
       "    }\n",
       "\n",
       "    .dataframe tbody tr th {\n",
       "        vertical-align: top;\n",
       "    }\n",
       "\n",
       "    .dataframe thead th {\n",
       "        text-align: right;\n",
       "    }\n",
       "</style>\n",
       "<table border=\"1\" class=\"dataframe\">\n",
       "  <thead>\n",
       "    <tr style=\"text-align: right;\">\n",
       "      <th>Predicted</th>\n",
       "      <th>negative</th>\n",
       "      <th>positive</th>\n",
       "      <th>All</th>\n",
       "    </tr>\n",
       "    <tr>\n",
       "      <th>Actual</th>\n",
       "      <th></th>\n",
       "      <th></th>\n",
       "      <th></th>\n",
       "    </tr>\n",
       "  </thead>\n",
       "  <tbody>\n",
       "    <tr>\n",
       "      <th>negative</th>\n",
       "      <td>71</td>\n",
       "      <td>30</td>\n",
       "      <td>101</td>\n",
       "    </tr>\n",
       "    <tr>\n",
       "      <th>positive</th>\n",
       "      <td>16</td>\n",
       "      <td>171</td>\n",
       "      <td>187</td>\n",
       "    </tr>\n",
       "    <tr>\n",
       "      <th>All</th>\n",
       "      <td>87</td>\n",
       "      <td>201</td>\n",
       "      <td>288</td>\n",
       "    </tr>\n",
       "  </tbody>\n",
       "</table>\n",
       "</div>"
      ],
      "text/plain": [
       "Predicted  negative  positive  All\n",
       "Actual                            \n",
       "negative         71        30  101\n",
       "positive         16       171  187\n",
       "All              87       201  288"
      ]
     },
     "metadata": {},
     "output_type": "display_data"
    }
   ],
   "source": [
    "display(pd.crosstab(np.array(y_test), predicted, rownames=['Actual'], colnames=['Predicted'], margins=True))"
   ]
  },
  {
   "cell_type": "markdown",
   "metadata": {},
   "source": [
    "#### Accuracy/F1 Score of the model 1 on test set"
   ]
  },
  {
   "cell_type": "markdown",
   "metadata": {},
   "source": [
    "F1 score shows the harmonic mean between the precision & recall. The classifier has an good F1-Score of 81% with an accuracy of 84%. "
   ]
  },
  {
   "cell_type": "code",
   "execution_count": 63,
   "metadata": {},
   "outputs": [
    {
     "name": "stdout",
     "output_type": "stream",
     "text": [
      "Total accuracy classification score: 0.8402777777777778\n",
      "Total F1 classification score: 0.8183812239526211\n"
     ]
    }
   ],
   "source": [
    "acc_score = metrics.accuracy_score(y_test, predicted)\n",
    "f1_score = metrics.f1_score(y_test, predicted, average='macro')\n",
    "print('Total accuracy classification score: '+str(acc_score))\n",
    "print('Total F1 classification score: '+str(f1_score))"
   ]
  },
  {
   "cell_type": "markdown",
   "metadata": {},
   "source": [
    "### Model 2: K Nearest Neighbour"
   ]
  },
  {
   "cell_type": "code",
   "execution_count": 64,
   "metadata": {},
   "outputs": [],
   "source": [
    "# Create Model for K-Nearest Neighbour for 8 neighbours\n",
    "rest_model2 = KNeighborsClassifier(n_neighbors=8,p=2,n_jobs=-1)\n",
    "# Train Model on training data\n",
    "rest_model2.fit(X_train,y_train)\n",
    "# Predict using the model on test data\n",
    "predicted2 = rest_model2.predict(Xtest)"
   ]
  },
  {
   "cell_type": "markdown",
   "metadata": {},
   "source": [
    "### Evaluate Model 2"
   ]
  },
  {
   "cell_type": "markdown",
   "metadata": {},
   "source": [
    "#### Confusion Matrix"
   ]
  },
  {
   "cell_type": "markdown",
   "metadata": {},
   "source": [
    "The confusion matrix shows the amount of predictions which were correct for each label. We can see that we have around 50 items misclassified as positive when they were actually negative. We can see there are less items(15) misclassified as negative when they were actually positive."
   ]
  },
  {
   "cell_type": "code",
   "execution_count": 65,
   "metadata": {},
   "outputs": [
    {
     "data": {
      "text/html": [
       "<div>\n",
       "<style scoped>\n",
       "    .dataframe tbody tr th:only-of-type {\n",
       "        vertical-align: middle;\n",
       "    }\n",
       "\n",
       "    .dataframe tbody tr th {\n",
       "        vertical-align: top;\n",
       "    }\n",
       "\n",
       "    .dataframe thead th {\n",
       "        text-align: right;\n",
       "    }\n",
       "</style>\n",
       "<table border=\"1\" class=\"dataframe\">\n",
       "  <thead>\n",
       "    <tr style=\"text-align: right;\">\n",
       "      <th>Predicted</th>\n",
       "      <th>negative</th>\n",
       "      <th>positive</th>\n",
       "      <th>All</th>\n",
       "    </tr>\n",
       "    <tr>\n",
       "      <th>Actual</th>\n",
       "      <th></th>\n",
       "      <th></th>\n",
       "      <th></th>\n",
       "    </tr>\n",
       "  </thead>\n",
       "  <tbody>\n",
       "    <tr>\n",
       "      <th>negative</th>\n",
       "      <td>57</td>\n",
       "      <td>44</td>\n",
       "      <td>101</td>\n",
       "    </tr>\n",
       "    <tr>\n",
       "      <th>positive</th>\n",
       "      <td>17</td>\n",
       "      <td>170</td>\n",
       "      <td>187</td>\n",
       "    </tr>\n",
       "    <tr>\n",
       "      <th>All</th>\n",
       "      <td>74</td>\n",
       "      <td>214</td>\n",
       "      <td>288</td>\n",
       "    </tr>\n",
       "  </tbody>\n",
       "</table>\n",
       "</div>"
      ],
      "text/plain": [
       "Predicted  negative  positive  All\n",
       "Actual                            \n",
       "negative         57        44  101\n",
       "positive         17       170  187\n",
       "All              74       214  288"
      ]
     },
     "metadata": {},
     "output_type": "display_data"
    }
   ],
   "source": [
    "display(pd.crosstab(np.array(y_test), predicted2, rownames=['Actual'], colnames=['Predicted'], margins=True))"
   ]
  },
  {
   "cell_type": "markdown",
   "metadata": {},
   "source": [
    "#### Accuracy/F1 Score of the model 2 on test set"
   ]
  },
  {
   "cell_type": "markdown",
   "metadata": {},
   "source": [
    "F1 score shows the harmonic mean between the precision & recall. The classifier has an average F1-Score of 73% with an accuracy of 78%. This shows that model 2 is not as good as model 1 for classification."
   ]
  },
  {
   "cell_type": "code",
   "execution_count": 66,
   "metadata": {},
   "outputs": [
    {
     "name": "stdout",
     "output_type": "stream",
     "text": [
      "Total accuracy classification score: 0.7881944444444444\n",
      "Total F1 classification score: 0.7496544353402208\n"
     ]
    }
   ],
   "source": [
    "acc_score = metrics.accuracy_score(y_test, predicted2)\n",
    "f1_score = metrics.f1_score(y_test, predicted2, average='macro')\n",
    "print('Total accuracy classification score: '+str(acc_score))\n",
    "print('Total F1 classification score: '+str(f1_score))"
   ]
  },
  {
   "cell_type": "markdown",
   "metadata": {},
   "source": [
    "### Model 3: Passive Aggressive Classifier"
   ]
  },
  {
   "cell_type": "code",
   "execution_count": 67,
   "metadata": {},
   "outputs": [],
   "source": [
    "# Create Model for Passive Aggressive Classifier\n",
    "rest_model3 = PassiveAggressiveClassifier(max_iter=10000, random_state=60,tol=1e-3)\n",
    "# Train Model on training data\n",
    "rest_model3.fit(X_train,y_train)\n",
    "# Predict using the model on test data\n",
    "predicted3 = rest_model3.predict(Xtest)"
   ]
  },
  {
   "cell_type": "markdown",
   "metadata": {},
   "source": [
    "### Evaluate Model 3"
   ]
  },
  {
   "cell_type": "markdown",
   "metadata": {},
   "source": [
    "#### Confusion Matrix"
   ]
  },
  {
   "cell_type": "markdown",
   "metadata": {},
   "source": [
    "The confusion matrix shows the amount of predictions which were correct for each label. We can see that we have around 30 items misclassified as positive when they were actually negative. We can see there are less items misclassified as negative when they were actually positive."
   ]
  },
  {
   "cell_type": "code",
   "execution_count": 68,
   "metadata": {},
   "outputs": [
    {
     "data": {
      "text/html": [
       "<div>\n",
       "<style scoped>\n",
       "    .dataframe tbody tr th:only-of-type {\n",
       "        vertical-align: middle;\n",
       "    }\n",
       "\n",
       "    .dataframe tbody tr th {\n",
       "        vertical-align: top;\n",
       "    }\n",
       "\n",
       "    .dataframe thead th {\n",
       "        text-align: right;\n",
       "    }\n",
       "</style>\n",
       "<table border=\"1\" class=\"dataframe\">\n",
       "  <thead>\n",
       "    <tr style=\"text-align: right;\">\n",
       "      <th>Predicted</th>\n",
       "      <th>negative</th>\n",
       "      <th>positive</th>\n",
       "      <th>All</th>\n",
       "    </tr>\n",
       "    <tr>\n",
       "      <th>Actual</th>\n",
       "      <th></th>\n",
       "      <th></th>\n",
       "      <th></th>\n",
       "    </tr>\n",
       "  </thead>\n",
       "  <tbody>\n",
       "    <tr>\n",
       "      <th>negative</th>\n",
       "      <td>66</td>\n",
       "      <td>35</td>\n",
       "      <td>101</td>\n",
       "    </tr>\n",
       "    <tr>\n",
       "      <th>positive</th>\n",
       "      <td>21</td>\n",
       "      <td>166</td>\n",
       "      <td>187</td>\n",
       "    </tr>\n",
       "    <tr>\n",
       "      <th>All</th>\n",
       "      <td>87</td>\n",
       "      <td>201</td>\n",
       "      <td>288</td>\n",
       "    </tr>\n",
       "  </tbody>\n",
       "</table>\n",
       "</div>"
      ],
      "text/plain": [
       "Predicted  negative  positive  All\n",
       "Actual                            \n",
       "negative         66        35  101\n",
       "positive         21       166  187\n",
       "All              87       201  288"
      ]
     },
     "metadata": {},
     "output_type": "display_data"
    }
   ],
   "source": [
    "display(pd.crosstab(np.array(y_test), predicted3, rownames=['Actual'], colnames=['Predicted'], margins=True))"
   ]
  },
  {
   "cell_type": "markdown",
   "metadata": {},
   "source": [
    "#### Accuracy/F1 Score of the model 3 on test set"
   ]
  },
  {
   "cell_type": "markdown",
   "metadata": {},
   "source": [
    "F1 score shows the harmonic mean between the precision & recall. The classifier has an average F1-Score of 77% with an accuracy of 80%. This shows that model 3 is better than model 2 but not as good as model 1 for classification."
   ]
  },
  {
   "cell_type": "code",
   "execution_count": 69,
   "metadata": {},
   "outputs": [
    {
     "name": "stdout",
     "output_type": "stream",
     "text": [
      "Total accuracy classification score: 0.8055555555555556\n",
      "Total F1 classification score: 0.778898881333626\n"
     ]
    }
   ],
   "source": [
    "acc_score = metrics.accuracy_score(y_test, predicted3)\n",
    "f1_score = metrics.f1_score(y_test, predicted3, average='macro')\n",
    "print('Total accuracy classification score: '+str(acc_score))\n",
    "print('Total F1 classification score: '+str(f1_score))"
   ]
  },
  {
   "cell_type": "markdown",
   "metadata": {},
   "source": [
    "### Model 4: SVM"
   ]
  },
  {
   "cell_type": "code",
   "execution_count": 70,
   "metadata": {},
   "outputs": [],
   "source": [
    "# Create Model for SVM\n",
    "rest_model4 = SVC(gamma='scale')\n",
    "# Train Model on training data\n",
    "rest_model4.fit(X_train,y_train)\n",
    "# Predict using the model on test data\n",
    "predicted4 = rest_model4.predict(Xtest)"
   ]
  },
  {
   "cell_type": "markdown",
   "metadata": {},
   "source": [
    "### Evaluate Model 4"
   ]
  },
  {
   "cell_type": "markdown",
   "metadata": {},
   "source": [
    "#### Confusion Matrix"
   ]
  },
  {
   "cell_type": "code",
   "execution_count": 71,
   "metadata": {},
   "outputs": [
    {
     "data": {
      "text/html": [
       "<div>\n",
       "<style scoped>\n",
       "    .dataframe tbody tr th:only-of-type {\n",
       "        vertical-align: middle;\n",
       "    }\n",
       "\n",
       "    .dataframe tbody tr th {\n",
       "        vertical-align: top;\n",
       "    }\n",
       "\n",
       "    .dataframe thead th {\n",
       "        text-align: right;\n",
       "    }\n",
       "</style>\n",
       "<table border=\"1\" class=\"dataframe\">\n",
       "  <thead>\n",
       "    <tr style=\"text-align: right;\">\n",
       "      <th>Predicted</th>\n",
       "      <th>negative</th>\n",
       "      <th>positive</th>\n",
       "      <th>All</th>\n",
       "    </tr>\n",
       "    <tr>\n",
       "      <th>Actual</th>\n",
       "      <th></th>\n",
       "      <th></th>\n",
       "      <th></th>\n",
       "    </tr>\n",
       "  </thead>\n",
       "  <tbody>\n",
       "    <tr>\n",
       "      <th>negative</th>\n",
       "      <td>61</td>\n",
       "      <td>40</td>\n",
       "      <td>101</td>\n",
       "    </tr>\n",
       "    <tr>\n",
       "      <th>positive</th>\n",
       "      <td>13</td>\n",
       "      <td>174</td>\n",
       "      <td>187</td>\n",
       "    </tr>\n",
       "    <tr>\n",
       "      <th>All</th>\n",
       "      <td>74</td>\n",
       "      <td>214</td>\n",
       "      <td>288</td>\n",
       "    </tr>\n",
       "  </tbody>\n",
       "</table>\n",
       "</div>"
      ],
      "text/plain": [
       "Predicted  negative  positive  All\n",
       "Actual                            \n",
       "negative         61        40  101\n",
       "positive         13       174  187\n",
       "All              74       214  288"
      ]
     },
     "metadata": {},
     "output_type": "display_data"
    }
   ],
   "source": [
    "display(pd.crosstab(np.array(y_test), predicted4, rownames=['Actual'], colnames=['Predicted'], margins=True))"
   ]
  },
  {
   "cell_type": "markdown",
   "metadata": {},
   "source": [
    "#### Accuracy/F1 Score of the model 4 on test set"
   ]
  },
  {
   "cell_type": "code",
   "execution_count": 72,
   "metadata": {},
   "outputs": [
    {
     "name": "stdout",
     "output_type": "stream",
     "text": [
      "Total accuracy classification score: 0.8159722222222222\n",
      "Total F1 classification score: 0.7824866405415034\n"
     ]
    }
   ],
   "source": [
    "acc_score = metrics.accuracy_score(y_test, predicted4)\n",
    "f1_score = metrics.f1_score(y_test, predicted4, average='macro')\n",
    "print('Total accuracy classification score: '+str(acc_score))\n",
    "print('Total F1 classification score: '+str(f1_score))"
   ]
  },
  {
   "cell_type": "markdown",
   "metadata": {},
   "source": [
    "### Model 5: SVM without stemming"
   ]
  },
  {
   "cell_type": "code",
   "execution_count": 73,
   "metadata": {},
   "outputs": [],
   "source": [
    "# Learn Vocabulary & Transform words into TDIDF matrix using a different vectorizer with no stemming\n",
    "X_train = vectorizer_nostem.fit_transform(X)\n",
    "# Create Model for SVM\n",
    "rest_model5 = SVC(gamma='scale')\n",
    "# Train Model on training data\n",
    "rest_model5.fit(X_train,y_train)\n",
    "# Convert Test Set into TD-IDF representation\n",
    "Xtest = vectorizer_nostem.transform(X_test) \n",
    "# Save test set for transfer learning test\n",
    "Rest_test = Xtest\n",
    "Rest_test_label = y_test\n",
    "# Predict using the model on test data\n",
    "predicted5 = rest_model5.predict(Xtest)"
   ]
  },
  {
   "cell_type": "markdown",
   "metadata": {},
   "source": [
    "### Evaluate Model 5"
   ]
  },
  {
   "cell_type": "markdown",
   "metadata": {},
   "source": [
    "#### Confusion Matrix"
   ]
  },
  {
   "cell_type": "code",
   "execution_count": 74,
   "metadata": {},
   "outputs": [
    {
     "data": {
      "text/html": [
       "<div>\n",
       "<style scoped>\n",
       "    .dataframe tbody tr th:only-of-type {\n",
       "        vertical-align: middle;\n",
       "    }\n",
       "\n",
       "    .dataframe tbody tr th {\n",
       "        vertical-align: top;\n",
       "    }\n",
       "\n",
       "    .dataframe thead th {\n",
       "        text-align: right;\n",
       "    }\n",
       "</style>\n",
       "<table border=\"1\" class=\"dataframe\">\n",
       "  <thead>\n",
       "    <tr style=\"text-align: right;\">\n",
       "      <th>Predicted</th>\n",
       "      <th>negative</th>\n",
       "      <th>positive</th>\n",
       "      <th>All</th>\n",
       "    </tr>\n",
       "    <tr>\n",
       "      <th>Actual</th>\n",
       "      <th></th>\n",
       "      <th></th>\n",
       "      <th></th>\n",
       "    </tr>\n",
       "  </thead>\n",
       "  <tbody>\n",
       "    <tr>\n",
       "      <th>negative</th>\n",
       "      <td>64</td>\n",
       "      <td>37</td>\n",
       "      <td>101</td>\n",
       "    </tr>\n",
       "    <tr>\n",
       "      <th>positive</th>\n",
       "      <td>11</td>\n",
       "      <td>176</td>\n",
       "      <td>187</td>\n",
       "    </tr>\n",
       "    <tr>\n",
       "      <th>All</th>\n",
       "      <td>75</td>\n",
       "      <td>213</td>\n",
       "      <td>288</td>\n",
       "    </tr>\n",
       "  </tbody>\n",
       "</table>\n",
       "</div>"
      ],
      "text/plain": [
       "Predicted  negative  positive  All\n",
       "Actual                            \n",
       "negative         64        37  101\n",
       "positive         11       176  187\n",
       "All              75       213  288"
      ]
     },
     "metadata": {},
     "output_type": "display_data"
    }
   ],
   "source": [
    "display(pd.crosstab(np.array(y_test), predicted5, rownames=['Actual'], colnames=['Predicted'], margins=True))"
   ]
  },
  {
   "cell_type": "markdown",
   "metadata": {},
   "source": [
    "#### Accuracy/F1 Score of the model 5 on test set"
   ]
  },
  {
   "cell_type": "code",
   "execution_count": 75,
   "metadata": {},
   "outputs": [
    {
     "name": "stdout",
     "output_type": "stream",
     "text": [
      "Total accuracy classification score: 0.8333333333333334\n",
      "Total F1 classification score: 0.8036363636363637\n"
     ]
    }
   ],
   "source": [
    "acc_score = metrics.accuracy_score(y_test, predicted5)\n",
    "f1_score = metrics.f1_score(y_test, predicted5, average='macro')\n",
    "print('Total accuracy classification score: '+str(acc_score))\n",
    "print('Total F1 classification score: '+str(f1_score))"
   ]
  },
  {
   "cell_type": "markdown",
   "metadata": {},
   "source": [
    "### Model 6: SVM with unigrams & bigram features"
   ]
  },
  {
   "cell_type": "code",
   "execution_count": 76,
   "metadata": {},
   "outputs": [],
   "source": [
    "# Learn Vocabulary & Transform words into TDIDF matrix using a different vectorizer \n",
    "X_train = vectorizer_bi.fit_transform(X)\n",
    "# Create Model for SVM\n",
    "rest_model6 = SVC(gamma='scale')\n",
    "# Train Model on training data\n",
    "rest_model6.fit(X_train,y_train)\n",
    "# Convert Test Set into TD-IDF representation\n",
    "Xtest = vectorizer_bi.transform(X_test) \n",
    "# Predict using the model on test data\n",
    "predicted6 = rest_model6.predict(Xtest)"
   ]
  },
  {
   "cell_type": "markdown",
   "metadata": {},
   "source": [
    "### Evaluate Model 6"
   ]
  },
  {
   "cell_type": "markdown",
   "metadata": {},
   "source": [
    "#### Confusion Matrix"
   ]
  },
  {
   "cell_type": "code",
   "execution_count": 77,
   "metadata": {},
   "outputs": [
    {
     "data": {
      "text/html": [
       "<div>\n",
       "<style scoped>\n",
       "    .dataframe tbody tr th:only-of-type {\n",
       "        vertical-align: middle;\n",
       "    }\n",
       "\n",
       "    .dataframe tbody tr th {\n",
       "        vertical-align: top;\n",
       "    }\n",
       "\n",
       "    .dataframe thead th {\n",
       "        text-align: right;\n",
       "    }\n",
       "</style>\n",
       "<table border=\"1\" class=\"dataframe\">\n",
       "  <thead>\n",
       "    <tr style=\"text-align: right;\">\n",
       "      <th>Predicted</th>\n",
       "      <th>negative</th>\n",
       "      <th>positive</th>\n",
       "      <th>All</th>\n",
       "    </tr>\n",
       "    <tr>\n",
       "      <th>Actual</th>\n",
       "      <th></th>\n",
       "      <th></th>\n",
       "      <th></th>\n",
       "    </tr>\n",
       "  </thead>\n",
       "  <tbody>\n",
       "    <tr>\n",
       "      <th>negative</th>\n",
       "      <td>62</td>\n",
       "      <td>39</td>\n",
       "      <td>101</td>\n",
       "    </tr>\n",
       "    <tr>\n",
       "      <th>positive</th>\n",
       "      <td>11</td>\n",
       "      <td>176</td>\n",
       "      <td>187</td>\n",
       "    </tr>\n",
       "    <tr>\n",
       "      <th>All</th>\n",
       "      <td>73</td>\n",
       "      <td>215</td>\n",
       "      <td>288</td>\n",
       "    </tr>\n",
       "  </tbody>\n",
       "</table>\n",
       "</div>"
      ],
      "text/plain": [
       "Predicted  negative  positive  All\n",
       "Actual                            \n",
       "negative         62        39  101\n",
       "positive         11       176  187\n",
       "All              73       215  288"
      ]
     },
     "metadata": {},
     "output_type": "display_data"
    }
   ],
   "source": [
    "display(pd.crosstab(np.array(y_test), predicted6, rownames=['Actual'], colnames=['Predicted'], margins=True))"
   ]
  },
  {
   "cell_type": "markdown",
   "metadata": {},
   "source": [
    "#### Accuracy/F1 Score of the model 6 on test set"
   ]
  },
  {
   "cell_type": "code",
   "execution_count": 78,
   "metadata": {},
   "outputs": [
    {
     "name": "stdout",
     "output_type": "stream",
     "text": [
      "Total accuracy classification score: 0.8263888888888888\n",
      "Total F1 classification score: 0.7941327843540916\n"
     ]
    }
   ],
   "source": [
    "acc_score = metrics.accuracy_score(y_test, predicted6)\n",
    "f1_score = metrics.f1_score(y_test, predicted6, average='macro')\n",
    "print('Total accuracy classification score: '+str(acc_score))\n",
    "print('Total F1 classification score: '+str(f1_score))"
   ]
  },
  {
   "cell_type": "markdown",
   "metadata": {},
   "source": [
    "### Model 7: Naive Bayes with unigrams & bigram features"
   ]
  },
  {
   "cell_type": "code",
   "execution_count": 79,
   "metadata": {},
   "outputs": [],
   "source": [
    "# Create Model for Naive Bayes\n",
    "rest_model7 = ComplementNB()\n",
    "# Train Model on training data\n",
    "rest_model7.fit(X_train,y_train)\n",
    "# Predict using the model on test data\n",
    "predicted7 = rest_model7.predict(Xtest)"
   ]
  },
  {
   "cell_type": "markdown",
   "metadata": {},
   "source": [
    "### Evaluate Model 7"
   ]
  },
  {
   "cell_type": "markdown",
   "metadata": {},
   "source": [
    "#### Confusion Matrix"
   ]
  },
  {
   "cell_type": "code",
   "execution_count": 80,
   "metadata": {},
   "outputs": [
    {
     "data": {
      "text/html": [
       "<div>\n",
       "<style scoped>\n",
       "    .dataframe tbody tr th:only-of-type {\n",
       "        vertical-align: middle;\n",
       "    }\n",
       "\n",
       "    .dataframe tbody tr th {\n",
       "        vertical-align: top;\n",
       "    }\n",
       "\n",
       "    .dataframe thead th {\n",
       "        text-align: right;\n",
       "    }\n",
       "</style>\n",
       "<table border=\"1\" class=\"dataframe\">\n",
       "  <thead>\n",
       "    <tr style=\"text-align: right;\">\n",
       "      <th>Predicted</th>\n",
       "      <th>negative</th>\n",
       "      <th>positive</th>\n",
       "      <th>All</th>\n",
       "    </tr>\n",
       "    <tr>\n",
       "      <th>Actual</th>\n",
       "      <th></th>\n",
       "      <th></th>\n",
       "      <th></th>\n",
       "    </tr>\n",
       "  </thead>\n",
       "  <tbody>\n",
       "    <tr>\n",
       "      <th>negative</th>\n",
       "      <td>77</td>\n",
       "      <td>24</td>\n",
       "      <td>101</td>\n",
       "    </tr>\n",
       "    <tr>\n",
       "      <th>positive</th>\n",
       "      <td>20</td>\n",
       "      <td>167</td>\n",
       "      <td>187</td>\n",
       "    </tr>\n",
       "    <tr>\n",
       "      <th>All</th>\n",
       "      <td>97</td>\n",
       "      <td>191</td>\n",
       "      <td>288</td>\n",
       "    </tr>\n",
       "  </tbody>\n",
       "</table>\n",
       "</div>"
      ],
      "text/plain": [
       "Predicted  negative  positive  All\n",
       "Actual                            \n",
       "negative         77        24  101\n",
       "positive         20       167  187\n",
       "All              97       191  288"
      ]
     },
     "metadata": {},
     "output_type": "display_data"
    }
   ],
   "source": [
    "display(pd.crosstab(np.array(y_test), predicted7, rownames=['Actual'], colnames=['Predicted'], margins=True))"
   ]
  },
  {
   "cell_type": "markdown",
   "metadata": {},
   "source": [
    "#### Accuracy/F1 Score of the model 5 on test set"
   ]
  },
  {
   "cell_type": "code",
   "execution_count": 81,
   "metadata": {},
   "outputs": [
    {
     "name": "stdout",
     "output_type": "stream",
     "text": [
      "Total accuracy classification score: 0.8472222222222222\n",
      "Total F1 classification score: 0.8306878306878307\n"
     ]
    }
   ],
   "source": [
    "acc_score = metrics.accuracy_score(y_test, predicted7)\n",
    "f1_score = metrics.f1_score(y_test, predicted7, average='macro')\n",
    "print('Total accuracy classification score: '+str(acc_score))\n",
    "print('Total F1 classification score: '+str(f1_score))"
   ]
  },
  {
   "cell_type": "markdown",
   "metadata": {},
   "source": [
    "### ROC/AUC for Models"
   ]
  },
  {
   "cell_type": "code",
   "execution_count": 82,
   "metadata": {},
   "outputs": [
    {
     "data": {
      "image/png": "[encoded data removed]",
      "text/plain": [
       "<Figure size 1080x504 with 1 Axes>"
      ]
     },
     "metadata": {},
     "output_type": "display_data"
    }
   ],
   "source": [
    "# Map rating to binary values\n",
    "y_test_bin = y_test.replace({'positive':1,'negative':0})\n",
    "pred_bin = pd.DataFrame(predicted).replace({'positive':1,'negative':0})\n",
    "pred2_bin = pd.DataFrame(predicted2).replace({'positive':1,'negative':0})\n",
    "pred3_bin = pd.DataFrame(predicted3).replace({'positive':1,'negative':0})\n",
    "pred4_bin = pd.DataFrame(predicted4).replace({'positive':1,'negative':0})\n",
    "pred5_bin = pd.DataFrame(predicted5).replace({'positive':1,'negative':0})\n",
    "pred6_bin = pd.DataFrame(predicted6).replace({'positive':1,'negative':0})\n",
    "pred7_bin = pd.DataFrame(predicted7).replace({'positive':1,'negative':0})\n",
    "plt.figure(figsize=(15,7))\n",
    "# Plot ROC curve\n",
    "plt.rcParams['font.size'] = 12\n",
    "plt.title('ROC curve for each classifier')\n",
    "plt.xlabel('False Positive Rate (1 - Specificity)')\n",
    "plt.ylabel('True Positive Rate (Sensitivity)')\n",
    "plt.grid(True)\n",
    "# Fetch ROC & AUC for Naive Bayes Classification\n",
    "fpr, tpr, thresh = metrics.roc_curve(y_test_bin, pred_bin)\n",
    "auc = metrics.roc_auc_score(y_test_bin, pred_bin)\n",
    "plt.plot(fpr,tpr,label=\"Naive Bayes, auc=\"+str(auc))\n",
    "# Fetch ROC & AUC for KNN Classification\n",
    "fpr, tpr, thresh = metrics.roc_curve(y_test_bin, pred2_bin)\n",
    "auc = metrics.roc_auc_score(y_test_bin, pred2_bin)\n",
    "plt.plot(fpr,tpr,label=\"KNN, auc=\"+str(auc))\n",
    "# Fetch ROC & AUC for Passive Aggressive Classification\n",
    "fpr, tpr, thresh = metrics.roc_curve(y_test_bin, pred3_bin)\n",
    "auc = metrics.roc_auc_score(y_test_bin, pred3_bin)\n",
    "plt.plot(fpr,tpr,label=\"Passive Aggressive Classifier, auc=\"+str(auc))\n",
    "# Fetch ROC & AUC for SVM\n",
    "fpr, tpr, thresh = metrics.roc_curve(y_test_bin, pred4_bin)\n",
    "auc = metrics.roc_auc_score(y_test_bin, pred4_bin)\n",
    "plt.plot(fpr,tpr,label=\"SVM, auc=\"+str(auc))\n",
    "# Fetch ROC & AUC for SVM without stemming\n",
    "fpr, tpr, thresh = metrics.roc_curve(y_test_bin, pred5_bin)\n",
    "auc = metrics.roc_auc_score(y_test_bin, pred5_bin)\n",
    "plt.plot(fpr,tpr,label=\"SVM (without stemming), auc=\"+str(auc))\n",
    "# Fetch ROC & AUC for SVM including bigram features\n",
    "fpr, tpr, thresh = metrics.roc_curve(y_test_bin, pred6_bin)\n",
    "auc = metrics.roc_auc_score(y_test_bin, pred6_bin)\n",
    "plt.plot(fpr,tpr,label=\"SVM (with bigrams), auc=\"+str(auc))\n",
    "# Fetch ROC & AUC for Naive Bayes including bigram features\n",
    "fpr, tpr, thresh = metrics.roc_curve(y_test_bin, pred7_bin)\n",
    "auc = metrics.roc_auc_score(y_test_bin, pred7_bin)\n",
    "plt.plot(fpr,tpr,label=\"Naive Bayes (with bigrams), auc=\"+str(auc))\n",
    "plt.legend(loc=0)\n",
    "plt.show()"
   ]
  },
  {
   "cell_type": "markdown",
   "metadata": {},
   "source": [
    "The above figure shows Naive Bayes with bigrams performs much better than the other classifiers with a high early true positive rate for lower false positive rates. Higher AUC also shows that Naive Bayes classifier is better. This could be because of the specific test set chosen, hence for a better comparison we perform a 10-fold validation as shown below."
   ]
  },
  {
   "cell_type": "markdown",
   "metadata": {},
   "source": [
    "### Evaluate & Compare Classifiers For Restaurant Dataset"
   ]
  },
  {
   "cell_type": "markdown",
   "metadata": {},
   "source": [
    "To Compare the models, we use a cross validation using a 10-fold validation and compare the performance to confirm which is the better model."
   ]
  },
  {
   "cell_type": "markdown",
   "metadata": {},
   "source": [
    "##### Naive Bayes Classifier"
   ]
  },
  {
   "cell_type": "code",
   "execution_count": 83,
   "metadata": {
    "scrolled": true
   },
   "outputs": [
    {
     "name": "stdout",
     "output_type": "stream",
     "text": [
      "Accuracy :  0.845182963588136  +/-  0.03256040334465983\n",
      "F1-Score :  0.8335074815284675  +/-  0.031825891269316044\n"
     ]
    }
   ],
   "source": [
    "scores = dict()\n",
    "f1_scores = dict()\n",
    "# Get numerical form of dataset based on model features\n",
    "X = vectorizer.transform(data_2)\n",
    "# Perform Cross Validation\n",
    "score=cross_validate(rest_model, X, target_2, cv=10, scoring=scoring, n_jobs=-1,return_train_score=False)\n",
    "# Store for plotting\n",
    "scores['Naive_Bayes'] = np.mean(score['test_accuracy'])\n",
    "print(\"Accuracy : \",np.mean(score['test_accuracy']), \" +/- \", np.std(score['test_accuracy']))\n",
    "# Store for plotting\n",
    "f1_scores['Naive_Bayes'] = np.mean(score['test_f1_macro'])\n",
    "print(\"F1-Score : \",np.mean(score['test_f1_macro']), \" +/- \", np.std(score['test_f1_macro']))"
   ]
  },
  {
   "cell_type": "markdown",
   "metadata": {},
   "source": [
    "##### KNN Classifier"
   ]
  },
  {
   "cell_type": "code",
   "execution_count": 84,
   "metadata": {},
   "outputs": [
    {
     "name": "stdout",
     "output_type": "stream",
     "text": [
      "Accuracy :  0.7736286271200065  +/-  0.021794680725848458\n",
      "F1-Score :  0.7457558545322902  +/-  0.02610833611250763\n"
     ]
    }
   ],
   "source": [
    "# Perform Cross Validation\n",
    "score=cross_validate(rest_model2, X, target_2, cv=10, scoring=scoring, n_jobs=-1,return_train_score=False)\n",
    "# Store for plotting\n",
    "scores['KNN'] = np.mean(score['test_accuracy'])\n",
    "print(\"Accuracy : \",np.mean(score['test_accuracy']), \" +/- \", np.std(score['test_accuracy']))\n",
    "# Store for plotting\n",
    "f1_scores['KNN'] = np.mean(score['test_f1_macro'])\n",
    "print(\"F1-Score : \",np.mean(score['test_f1_macro']), \" +/- \", np.std(score['test_f1_macro']))"
   ]
  },
  {
   "cell_type": "markdown",
   "metadata": {},
   "source": [
    "##### Passive Aggressive Classifier"
   ]
  },
  {
   "cell_type": "code",
   "execution_count": 85,
   "metadata": {},
   "outputs": [
    {
     "name": "stdout",
     "output_type": "stream",
     "text": [
      "Accuracy :  0.8284867574953783  +/-  0.023528210680679753\n",
      "F1-Score :  0.8120972562532964  +/-  0.023484657316297956\n"
     ]
    }
   ],
   "source": [
    "# Perform Cross Validation\n",
    "score=cross_validate(rest_model3, X, target_2, cv=10, scoring=scoring, n_jobs=-1,return_train_score=False)\n",
    "# Store for plotting\n",
    "scores['Passive Aggressive Classifier'] = np.mean(score['test_accuracy'])\n",
    "print(\"Accuracy : \",np.mean(score['test_accuracy']), \" +/- \", np.std(score['test_accuracy']))\n",
    "# Store for plotting\n",
    "f1_scores['Passive Aggressive Classifier'] = np.mean(score['test_f1_macro'])\n",
    "print(\"F1-Score : \",np.mean(score['test_f1_macro']), \" +/- \", np.std(score['test_f1_macro']))"
   ]
  },
  {
   "cell_type": "markdown",
   "metadata": {},
   "source": [
    "##### SVM"
   ]
  },
  {
   "cell_type": "code",
   "execution_count": 86,
   "metadata": {},
   "outputs": [
    {
     "name": "stdout",
     "output_type": "stream",
     "text": [
      "Accuracy :  0.8555657704364601  +/-  0.019657161446478732\n",
      "F1-Score :  0.8339736216062221  +/-  0.025920257546346668\n"
     ]
    }
   ],
   "source": [
    "# Perform Cross Validation\n",
    "score=cross_validate(rest_model4, X, target_2, cv=10, scoring=scoring, n_jobs=-1,return_train_score=False)\n",
    "# Store for plotting\n",
    "scores['SVM'] = np.mean(score['test_accuracy'])\n",
    "print(\"Accuracy : \",np.mean(score['test_accuracy']), \" +/- \", np.std(score['test_accuracy']))\n",
    "# Store for plotting\n",
    "f1_scores['SVM'] = np.mean(score['test_f1_macro'])\n",
    "print(\"F1-Score : \",np.mean(score['test_f1_macro']), \" +/- \", np.std(score['test_f1_macro']))"
   ]
  },
  {
   "cell_type": "markdown",
   "metadata": {},
   "source": [
    "##### SVM without stemming"
   ]
  },
  {
   "cell_type": "markdown",
   "metadata": {},
   "source": [
    "#### Average Accuracy of Model 5 using a 10-fold Cross Validation"
   ]
  },
  {
   "cell_type": "code",
   "execution_count": 87,
   "metadata": {},
   "outputs": [
    {
     "name": "stdout",
     "output_type": "stream",
     "text": [
      "Accuracy :  0.8562457130991612  +/-  0.02443474050786684\n",
      "F1-Score :  0.834120503249794  +/-  0.03216784210049075\n"
     ]
    }
   ],
   "source": [
    "# Get numerical form of dataset based on model features\n",
    "X = vectorizer_nostem.transform(data_2)\n",
    "# Perform Cross Validation\n",
    "score=cross_validate(rest_model5, X, target_2, cv=10, scoring=scoring, n_jobs=-1,return_train_score=False)\n",
    "# Store for plotting\n",
    "scores['SVM without stemming'] = np.mean(score['test_accuracy'])\n",
    "print(\"Accuracy : \",np.mean(score['test_accuracy']), \" +/- \", np.std(score['test_accuracy']))\n",
    "# Store for plotting\n",
    "f1_scores['SVM without stemming'] = np.mean(score['test_f1_macro'])\n",
    "print(\"F1-Score : \",np.mean(score['test_f1_macro']), \" +/- \", np.std(score['test_f1_macro']))"
   ]
  },
  {
   "cell_type": "markdown",
   "metadata": {},
   "source": [
    "##### SVM with bigram"
   ]
  },
  {
   "cell_type": "markdown",
   "metadata": {},
   "source": [
    "#### Average Accuracy of Model 6 using a 10-fold Cross Validation"
   ]
  },
  {
   "cell_type": "code",
   "execution_count": 88,
   "metadata": {},
   "outputs": [
    {
     "name": "stdout",
     "output_type": "stream",
     "text": [
      "Accuracy :  0.8555899177450902  +/-  0.022439695566163757\n",
      "F1-Score :  0.8342017925798194  +/-  0.029063149518344687\n"
     ]
    }
   ],
   "source": [
    "# Get numerical form of dataset based on model features\n",
    "X = vectorizer_bi.transform(data_2)\n",
    "# Perform Cross Validation\n",
    "score=cross_validate(rest_model6, X, target_2, cv=10, scoring=scoring, n_jobs=-1,return_train_score=False)\n",
    "# Store for plotting\n",
    "scores['SVM with bigrams'] = np.mean(score['test_accuracy'])\n",
    "print(\"Accuracy : \",np.mean(score['test_accuracy']), \" +/- \", np.std(score['test_accuracy']))\n",
    "# Store for plotting\n",
    "f1_scores['SVM with bigrams'] = np.mean(score['test_f1_macro'])\n",
    "print(\"F1-Score : \",np.mean(score['test_f1_macro']), \" +/- \", np.std(score['test_f1_macro']))"
   ]
  },
  {
   "cell_type": "markdown",
   "metadata": {},
   "source": [
    "##### Naive Bayes with bigram"
   ]
  },
  {
   "cell_type": "markdown",
   "metadata": {},
   "source": [
    "#### Average Accuracy of Model 7 using a 10-fold Cross Validation"
   ]
  },
  {
   "cell_type": "code",
   "execution_count": 89,
   "metadata": {},
   "outputs": [
    {
     "name": "stdout",
     "output_type": "stream",
     "text": [
      "Accuracy :  0.8431142660021971  +/-  0.03483978950209106\n",
      "F1-Score :  0.8332043368433011  +/-  0.0346459801479864\n"
     ]
    }
   ],
   "source": [
    "# Perform Cross Validation\n",
    "score=cross_validate(rest_model7, X, target_2, cv=10, scoring=scoring, n_jobs=-1,return_train_score=False)\n",
    "# Store for plotting\n",
    "scores['Naive Bayes with bigrams'] = np.mean(score['test_accuracy'])\n",
    "print(\"Accuracy : \",np.mean(score['test_accuracy']), \" +/- \", np.std(score['test_accuracy']))\n",
    "# Store for plotting\n",
    "f1_scores['Naive Bayes with bigrams'] = np.mean(score['test_f1_macro'])\n",
    "print(\"F1-Score : \",np.mean(score['test_f1_macro']), \" +/- \", np.std(score['test_f1_macro']))"
   ]
  },
  {
   "cell_type": "code",
   "execution_count": 90,
   "metadata": {},
   "outputs": [
    {
     "data": {
      "image/png": "[encoded data removed]",
      "text/plain": [
       "<Figure size 1080x504 with 1 Axes>"
      ]
     },
     "metadata": {},
     "output_type": "display_data"
    },
    {
     "data": {
      "image/png": "[encoded data removed]",
      "text/plain": [
       "<Figure size 1080x504 with 1 Axes>"
      ]
     },
     "metadata": {},
     "output_type": "display_data"
    }
   ],
   "source": [
    "plot_graph(scores,\"Accuracy of Different Classifiers on Restaurant Dataset\",prune=True)\n",
    "plot_graph(f1_scores,\"F1-Scores of Different Classifiers on Bar Dataset\",ytitle=\"F1-Score\",prune=True)"
   ]
  },
  {
   "cell_type": "markdown",
   "metadata": {},
   "source": [
    "We can see that SVM with bigrams and SVM with no stemming outperforms the other classifiers and can be chosen as the best model for the dataset.\n",
    "We choose SVM with no stemming(It has better average accuracy by 0.1%) as the best model for later use."
   ]
  },
  {
   "cell_type": "code",
   "execution_count": 91,
   "metadata": {},
   "outputs": [],
   "source": [
    "best_rest_model = rest_model5\n",
    "rest_vectorizer = vectorizer_nostem"
   ]
  },
  {
   "cell_type": "markdown",
   "metadata": {},
   "source": [
    "# Task 3: Transfer Learning"
   ]
  },
  {
   "cell_type": "markdown",
   "metadata": {},
   "source": [
    "Since restaurants and bars are both places to eat & drink, these datasets would have similiar reviews. This would mean both datasets have common features, hence we hypothesis that the models trained on each dataset would have a good accuracy on the other dataset."
   ]
  },
  {
   "cell_type": "markdown",
   "metadata": {},
   "source": [
    "### Classify Bars using model Trained on Restaurant Dataset"
   ]
  },
  {
   "cell_type": "markdown",
   "metadata": {},
   "source": [
    " #### Restaurant based SVM classifier on Restaurant Dataset(Test Set)"
   ]
  },
  {
   "cell_type": "code",
   "execution_count": 92,
   "metadata": {},
   "outputs": [],
   "source": [
    "model = dict()\n",
    "f1_model = dict()\n",
    "# Predict on 20% of remaining set\n",
    "pred = best_rest_model.predict(Rest_test)"
   ]
  },
  {
   "cell_type": "markdown",
   "metadata": {},
   "source": [
    "##### Accuracy/F1 Score on a original dataset(restaurant data)"
   ]
  },
  {
   "cell_type": "code",
   "execution_count": 93,
   "metadata": {},
   "outputs": [
    {
     "name": "stdout",
     "output_type": "stream",
     "text": [
      "Total accuracy classification score: 0.8333333333333334\n",
      "Total F1 classification score: 0.8036363636363637\n"
     ]
    }
   ],
   "source": [
    "# Print metrics\n",
    "acc_score = metrics.accuracy_score(Rest_test_label, pred)\n",
    "f1_score = metrics.f1_score(Rest_test_label, pred, average='macro')\n",
    "print('Total accuracy classification score: '+str(acc_score))\n",
    "model['Restaurant Model']  = acc_score\n",
    "print('Total F1 classification score: '+str(f1_score))\n",
    "f1_model['Restaurant Model']  = f1_score"
   ]
  },
  {
   "cell_type": "markdown",
   "metadata": {},
   "source": [
    " #### Restaurant based SVM classifier on Bar dataset"
   ]
  },
  {
   "cell_type": "code",
   "execution_count": 94,
   "metadata": {},
   "outputs": [],
   "source": [
    "# Fetch bar data\n",
    "bar_data = dataset1.review\n",
    "bar_label = dataset1.rating\n",
    "# Convert bar data into numerical format based on restaurant model\n",
    "X_bar = rest_vectorizer.transform(bar_data)"
   ]
  },
  {
   "cell_type": "markdown",
   "metadata": {},
   "source": [
    "#### Predict on bar data"
   ]
  },
  {
   "cell_type": "code",
   "execution_count": 95,
   "metadata": {},
   "outputs": [],
   "source": [
    "# Predict using the restaurant model model\n",
    "predicted = best_rest_model.predict(X_bar)"
   ]
  },
  {
   "cell_type": "markdown",
   "metadata": {},
   "source": [
    "#### Evaluate the transfer learning for the restaurant model on bar dataset"
   ]
  },
  {
   "cell_type": "markdown",
   "metadata": {},
   "source": [
    "##### Confusion Matrix"
   ]
  },
  {
   "cell_type": "markdown",
   "metadata": {},
   "source": [
    "The confusion matrix shows the amount of predictions which were correct for each label. We can see that for the transfer model, we have 150+ items misclassified as positive when they were actually negative. We can see there are less items misclassified as negative when they were actually positive."
   ]
  },
  {
   "cell_type": "code",
   "execution_count": 96,
   "metadata": {},
   "outputs": [
    {
     "name": "stdout",
     "output_type": "stream",
     "text": [
      " Confusion Matrix on restaurant data\n"
     ]
    },
    {
     "data": {
      "text/html": [
       "<div>\n",
       "<style scoped>\n",
       "    .dataframe tbody tr th:only-of-type {\n",
       "        vertical-align: middle;\n",
       "    }\n",
       "\n",
       "    .dataframe tbody tr th {\n",
       "        vertical-align: top;\n",
       "    }\n",
       "\n",
       "    .dataframe thead th {\n",
       "        text-align: right;\n",
       "    }\n",
       "</style>\n",
       "<table border=\"1\" class=\"dataframe\">\n",
       "  <thead>\n",
       "    <tr style=\"text-align: right;\">\n",
       "      <th>Predicted</th>\n",
       "      <th>negative</th>\n",
       "      <th>positive</th>\n",
       "      <th>All</th>\n",
       "    </tr>\n",
       "    <tr>\n",
       "      <th>Actual</th>\n",
       "      <th></th>\n",
       "      <th></th>\n",
       "      <th></th>\n",
       "    </tr>\n",
       "  </thead>\n",
       "  <tbody>\n",
       "    <tr>\n",
       "      <th>negative</th>\n",
       "      <td>64</td>\n",
       "      <td>37</td>\n",
       "      <td>101</td>\n",
       "    </tr>\n",
       "    <tr>\n",
       "      <th>positive</th>\n",
       "      <td>11</td>\n",
       "      <td>176</td>\n",
       "      <td>187</td>\n",
       "    </tr>\n",
       "    <tr>\n",
       "      <th>All</th>\n",
       "      <td>75</td>\n",
       "      <td>213</td>\n",
       "      <td>288</td>\n",
       "    </tr>\n",
       "  </tbody>\n",
       "</table>\n",
       "</div>"
      ],
      "text/plain": [
       "Predicted  negative  positive  All\n",
       "Actual                            \n",
       "negative         64        37  101\n",
       "positive         11       176  187\n",
       "All              75       213  288"
      ]
     },
     "metadata": {},
     "output_type": "display_data"
    },
    {
     "name": "stdout",
     "output_type": "stream",
     "text": [
      " Confusion Matrix on bar data\n"
     ]
    },
    {
     "data": {
      "text/html": [
       "<div>\n",
       "<style scoped>\n",
       "    .dataframe tbody tr th:only-of-type {\n",
       "        vertical-align: middle;\n",
       "    }\n",
       "\n",
       "    .dataframe tbody tr th {\n",
       "        vertical-align: top;\n",
       "    }\n",
       "\n",
       "    .dataframe thead th {\n",
       "        text-align: right;\n",
       "    }\n",
       "</style>\n",
       "<table border=\"1\" class=\"dataframe\">\n",
       "  <thead>\n",
       "    <tr style=\"text-align: right;\">\n",
       "      <th>Predicted</th>\n",
       "      <th>negative</th>\n",
       "      <th>positive</th>\n",
       "      <th>All</th>\n",
       "    </tr>\n",
       "    <tr>\n",
       "      <th>Actual</th>\n",
       "      <th></th>\n",
       "      <th></th>\n",
       "      <th></th>\n",
       "    </tr>\n",
       "  </thead>\n",
       "  <tbody>\n",
       "    <tr>\n",
       "      <th>negative</th>\n",
       "      <td>411</td>\n",
       "      <td>154</td>\n",
       "      <td>565</td>\n",
       "    </tr>\n",
       "    <tr>\n",
       "      <th>positive</th>\n",
       "      <td>56</td>\n",
       "      <td>839</td>\n",
       "      <td>895</td>\n",
       "    </tr>\n",
       "    <tr>\n",
       "      <th>All</th>\n",
       "      <td>467</td>\n",
       "      <td>993</td>\n",
       "      <td>1460</td>\n",
       "    </tr>\n",
       "  </tbody>\n",
       "</table>\n",
       "</div>"
      ],
      "text/plain": [
       "Predicted  negative  positive   All\n",
       "Actual                             \n",
       "negative        411       154   565\n",
       "positive         56       839   895\n",
       "All             467       993  1460"
      ]
     },
     "metadata": {},
     "output_type": "display_data"
    }
   ],
   "source": [
    "print(\" Confusion Matrix on restaurant data\")\n",
    "display(pd.crosstab(np.array(Rest_test_label), pred, rownames=['Actual'], colnames=['Predicted'], margins=True))\n",
    "print(\" Confusion Matrix on bar data\")\n",
    "display(pd.crosstab(np.array(bar_label), predicted, rownames=['Actual'], colnames=['Predicted'], margins=True))"
   ]
  },
  {
   "cell_type": "markdown",
   "metadata": {},
   "source": [
    "##### Accuracy/F1 Score on a new dataset(bar data)"
   ]
  },
  {
   "cell_type": "code",
   "execution_count": 97,
   "metadata": {},
   "outputs": [
    {
     "name": "stdout",
     "output_type": "stream",
     "text": [
      "Total accuracy classification score: 0.8561643835616438\n",
      "Total F1 classification score: 0.8426414071738273\n"
     ]
    }
   ],
   "source": [
    "acc_score = dict()\n",
    "f1_score = dict()\n",
    "acc_score['Restaurant Model'] = metrics.accuracy_score(bar_label, predicted)\n",
    "f1_score['Restaurant Model'] = metrics.f1_score(bar_label, predicted, average='macro')\n",
    "print('Total accuracy classification score: '+str(acc_score['Restaurant Model']))\n",
    "print('Total F1 classification score: '+str(f1_score['Restaurant Model']))"
   ]
  },
  {
   "cell_type": "markdown",
   "metadata": {},
   "source": [
    "#### Compare model between old dataset & new data"
   ]
  },
  {
   "cell_type": "code",
   "execution_count": 98,
   "metadata": {},
   "outputs": [
    {
     "data": {
      "image/png": "[encoded data removed]",
      "text/plain": [
       "<Figure size 1080x504 with 1 Axes>"
      ]
     },
     "metadata": {},
     "output_type": "display_data"
    },
    {
     "data": {
      "image/png": "[encoded data removed]",
      "text/plain": [
       "<Figure size 1080x504 with 1 Axes>"
      ]
     },
     "metadata": {},
     "output_type": "display_data"
    }
   ],
   "source": [
    "model['Restaurant Model on Bar data'] = acc_score['Restaurant Model']\n",
    "f1_model['Restaurant Model on Bar data'] =  f1_score['Restaurant Model']\n",
    "plot_graph(model,\"Accuracy of Restaurant Model: Original Dataset Vs. Transfer Learning\")\n",
    "plot_graph(f1_model,\"F1 Score of Restaurant Model: Original Dataset Vs. Transfer Learning\",ytitle=\" F1 Score\")"
   ]
  },
  {
   "cell_type": "markdown",
   "metadata": {},
   "source": [
    "#### ROC of Restaurant Model on Restaurant data vs. ROC of Restaurant model on bar data"
   ]
  },
  {
   "cell_type": "code",
   "execution_count": 99,
   "metadata": {
    "scrolled": true
   },
   "outputs": [
    {
     "data": {
      "image/png": "[encoded data removed]",
      "text/plain": [
       "<Figure size 1080x504 with 1 Axes>"
      ]
     },
     "metadata": {},
     "output_type": "display_data"
    }
   ],
   "source": [
    "# Map rating to binary values\n",
    "y_test_bin = Rest_test_label.replace({'positive':1,'negative':0})\n",
    "y_test2_bin = bar_label.replace({'positive':1,'negative':0})\n",
    "pred_bin = pd.DataFrame(pred).replace({'positive':1,'negative':0})\n",
    "pred2_bin = pd.DataFrame(predicted).replace({'positive':1,'negative':0})\n",
    "# Plot ROC curve\n",
    "plt.figure(figsize=(15,7))\n",
    "plt.rcParams['font.size'] = 12\n",
    "plt.title('ROC curve for each classifier on new dataset')\n",
    "plt.xlabel('False Positive Rate (1 - Specificity)')\n",
    "plt.ylabel('True Positive Rate (Sensitivity)')\n",
    "plt.grid(True)\n",
    "# Fetch ROC & AUC for Rest data Classification\n",
    "fpr, tpr, thresh = metrics.roc_curve(y_test_bin, pred_bin)\n",
    "auc = metrics.roc_auc_score(y_test_bin, pred_bin)\n",
    "plt.plot(fpr,tpr,label=\"Restaurant Model on Restaurant data, auc=\"+str(auc))\n",
    "# Fetch ROC & AUC for Bar data Classification\n",
    "fpr, tpr, thresh = metrics.roc_curve(y_test2_bin, pred2_bin)\n",
    "auc = metrics.roc_auc_score(y_test2_bin, pred2_bin)\n",
    "plt.plot(fpr,tpr,label=\"Restaurant Model on Bar data, auc=\"+str(auc))\n",
    "plt.legend(loc=0)\n",
    "plt.show()"
   ]
  },
  {
   "cell_type": "markdown",
   "metadata": {},
   "source": [
    "We can see that the transfer learning model on restaurant data has performed better than the original model. This could be because the original model is more skewed than the transfer learning model. Also the new dataset(bars) has less number of features compared to the high number features which was used to train the Restaurant model."
   ]
  },
  {
   "cell_type": "markdown",
   "metadata": {},
   "source": [
    "### Classify Restaurants using Model trained on Bars"
   ]
  },
  {
   "cell_type": "markdown",
   "metadata": {},
   "source": [
    " #### Bar Review based SVM classifier on Bar dataset(Test Set)"
   ]
  },
  {
   "cell_type": "code",
   "execution_count": 100,
   "metadata": {},
   "outputs": [],
   "source": [
    "model1 = dict()\n",
    "f1_model1 = dict()\n",
    "# Fetch predictions for bar test set\n",
    "pred2 = best_bar_model.predict(Bar_test)"
   ]
  },
  {
   "cell_type": "markdown",
   "metadata": {},
   "source": [
    "##### Accuracy/F1 Score of the model on bar dataset"
   ]
  },
  {
   "cell_type": "code",
   "execution_count": 101,
   "metadata": {},
   "outputs": [
    {
     "name": "stdout",
     "output_type": "stream",
     "text": [
      "Total accuracy classification score: 0.886986301369863\n",
      "Total F1 classification score: 0.8770526315789473\n"
     ]
    }
   ],
   "source": [
    "# Calculate metrics\n",
    "acc_score1 = metrics.accuracy_score(Bar_test_label, pred2)\n",
    "f1_score1 = metrics.f1_score(Bar_test_label, pred2, average='macro')\n",
    "print('Total accuracy classification score: '+str(acc_score1))\n",
    "model1['Bar Model'] = acc_score1\n",
    "print('Total F1 classification score: '+str(f1_score1))\n",
    "f1_model1['Bar Model']  = f1_score1"
   ]
  },
  {
   "cell_type": "markdown",
   "metadata": {},
   "source": [
    " #### Bar Review based SVM classifier on Restaurant Dataset"
   ]
  },
  {
   "cell_type": "code",
   "execution_count": 102,
   "metadata": {},
   "outputs": [
    {
     "data": {
      "text/plain": [
       "(1440, 1218)"
      ]
     },
     "execution_count": 102,
     "metadata": {},
     "output_type": "execute_result"
    }
   ],
   "source": [
    "# Fetch bar data\n",
    "rest_data = dataset2.review\n",
    "rest_label = dataset2.rating\n",
    "# Convert restaurant data into numerical format based on bar model\n",
    "X_test = bar_vectorizer.transform(rest_data)\n",
    "X_test.shape"
   ]
  },
  {
   "cell_type": "markdown",
   "metadata": {},
   "source": [
    "#### Predict on restaurant data"
   ]
  },
  {
   "cell_type": "code",
   "execution_count": 103,
   "metadata": {},
   "outputs": [],
   "source": [
    "predicted2 = best_bar_model.predict(X_test)"
   ]
  },
  {
   "cell_type": "markdown",
   "metadata": {},
   "source": [
    "#### Evaluate the transfer learning for the bar model on restaurant dataset"
   ]
  },
  {
   "cell_type": "markdown",
   "metadata": {},
   "source": [
    "##### Confusion Matrix"
   ]
  },
  {
   "cell_type": "markdown",
   "metadata": {},
   "source": [
    "The confusion matrix shows the amount of predictions which were correct for each label. We can see that we have 130+ items misclassified as positive when they were actually negative. We can see there are less items misclassified as negative when they were actually positive."
   ]
  },
  {
   "cell_type": "code",
   "execution_count": 104,
   "metadata": {},
   "outputs": [
    {
     "name": "stdout",
     "output_type": "stream",
     "text": [
      "Confusion Matrix On Bar Data\n"
     ]
    },
    {
     "data": {
      "text/html": [
       "<div>\n",
       "<style scoped>\n",
       "    .dataframe tbody tr th:only-of-type {\n",
       "        vertical-align: middle;\n",
       "    }\n",
       "\n",
       "    .dataframe tbody tr th {\n",
       "        vertical-align: top;\n",
       "    }\n",
       "\n",
       "    .dataframe thead th {\n",
       "        text-align: right;\n",
       "    }\n",
       "</style>\n",
       "<table border=\"1\" class=\"dataframe\">\n",
       "  <thead>\n",
       "    <tr style=\"text-align: right;\">\n",
       "      <th>Predicted</th>\n",
       "      <th>negative</th>\n",
       "      <th>positive</th>\n",
       "      <th>All</th>\n",
       "    </tr>\n",
       "    <tr>\n",
       "      <th>Actual</th>\n",
       "      <th></th>\n",
       "      <th></th>\n",
       "      <th></th>\n",
       "    </tr>\n",
       "  </thead>\n",
       "  <tbody>\n",
       "    <tr>\n",
       "      <th>negative</th>\n",
       "      <td>88</td>\n",
       "      <td>25</td>\n",
       "      <td>113</td>\n",
       "    </tr>\n",
       "    <tr>\n",
       "      <th>positive</th>\n",
       "      <td>8</td>\n",
       "      <td>171</td>\n",
       "      <td>179</td>\n",
       "    </tr>\n",
       "    <tr>\n",
       "      <th>All</th>\n",
       "      <td>96</td>\n",
       "      <td>196</td>\n",
       "      <td>292</td>\n",
       "    </tr>\n",
       "  </tbody>\n",
       "</table>\n",
       "</div>"
      ],
      "text/plain": [
       "Predicted  negative  positive  All\n",
       "Actual                            \n",
       "negative         88        25  113\n",
       "positive          8       171  179\n",
       "All              96       196  292"
      ]
     },
     "metadata": {},
     "output_type": "display_data"
    },
    {
     "name": "stdout",
     "output_type": "stream",
     "text": [
      "Confusion Matrix On Restaurant Data\n"
     ]
    },
    {
     "data": {
      "text/html": [
       "<div>\n",
       "<style scoped>\n",
       "    .dataframe tbody tr th:only-of-type {\n",
       "        vertical-align: middle;\n",
       "    }\n",
       "\n",
       "    .dataframe tbody tr th {\n",
       "        vertical-align: top;\n",
       "    }\n",
       "\n",
       "    .dataframe thead th {\n",
       "        text-align: right;\n",
       "    }\n",
       "</style>\n",
       "<table border=\"1\" class=\"dataframe\">\n",
       "  <thead>\n",
       "    <tr style=\"text-align: right;\">\n",
       "      <th>Predicted</th>\n",
       "      <th>negative</th>\n",
       "      <th>positive</th>\n",
       "      <th>All</th>\n",
       "    </tr>\n",
       "    <tr>\n",
       "      <th>Actual</th>\n",
       "      <th></th>\n",
       "      <th></th>\n",
       "      <th></th>\n",
       "    </tr>\n",
       "  </thead>\n",
       "  <tbody>\n",
       "    <tr>\n",
       "      <th>negative</th>\n",
       "      <td>370</td>\n",
       "      <td>137</td>\n",
       "      <td>507</td>\n",
       "    </tr>\n",
       "    <tr>\n",
       "      <th>positive</th>\n",
       "      <td>74</td>\n",
       "      <td>859</td>\n",
       "      <td>933</td>\n",
       "    </tr>\n",
       "    <tr>\n",
       "      <th>All</th>\n",
       "      <td>444</td>\n",
       "      <td>996</td>\n",
       "      <td>1440</td>\n",
       "    </tr>\n",
       "  </tbody>\n",
       "</table>\n",
       "</div>"
      ],
      "text/plain": [
       "Predicted  negative  positive   All\n",
       "Actual                             \n",
       "negative        370       137   507\n",
       "positive         74       859   933\n",
       "All             444       996  1440"
      ]
     },
     "metadata": {},
     "output_type": "display_data"
    }
   ],
   "source": [
    "print(\"Confusion Matrix On Bar Data\")\n",
    "display(pd.crosstab(np.array(Bar_test_label), pred2, rownames=['Actual'], colnames=['Predicted'], margins=True))\n",
    "print(\"Confusion Matrix On Restaurant Data\")\n",
    "display(pd.crosstab(np.array(rest_label), predicted2, rownames=['Actual'], colnames=['Predicted'], margins=True))"
   ]
  },
  {
   "cell_type": "markdown",
   "metadata": {},
   "source": [
    "##### Accuracy/F1 Score of the model prediction on restaurant dataset"
   ]
  },
  {
   "cell_type": "code",
   "execution_count": 105,
   "metadata": {},
   "outputs": [
    {
     "name": "stdout",
     "output_type": "stream",
     "text": [
      "Total accuracy classification score: 0.8534722222222222\n",
      "Total F1 classification score: 0.8343725929814405\n"
     ]
    }
   ],
   "source": [
    "acc_score['Bar model'] = metrics.accuracy_score(rest_label, predicted2)\n",
    "f1_score['Bar model'] = metrics.f1_score(rest_label, predicted2, average='macro')\n",
    "print('Total accuracy classification score: '+str(acc_score['Bar model']))\n",
    "print('Total F1 classification score: '+str(f1_score['Bar model']))"
   ]
  },
  {
   "cell_type": "markdown",
   "metadata": {},
   "source": [
    "#### Compare with original model"
   ]
  },
  {
   "cell_type": "code",
   "execution_count": 106,
   "metadata": {},
   "outputs": [
    {
     "data": {
      "image/png": "[encoded data removed]",
      "text/plain": [
       "<Figure size 1080x504 with 1 Axes>"
      ]
     },
     "metadata": {},
     "output_type": "display_data"
    },
    {
     "data": {
      "image/png": "[encoded data removed]",
      "text/plain": [
       "<Figure size 1080x504 with 1 Axes>"
      ]
     },
     "metadata": {},
     "output_type": "display_data"
    }
   ],
   "source": [
    "model1['Bar Model on Restaurant Data'] = acc_score['Bar model']\n",
    "f1_model1['Bar Model on Restaurant Data'] = f1_score['Bar model']\n",
    "plot_graph(model1,\"Accuracy: Original Dataset Vs. Transfer Learning\")\n",
    "plot_graph(f1_model1,\"F1 Score: Original Dataset Vs. Transfer Learning\",ytitle=\" F1 Score\")"
   ]
  },
  {
   "cell_type": "markdown",
   "metadata": {},
   "source": [
    "#### ROC of Bar Model on Bar data vs. ROC of bar model on Restaurant data"
   ]
  },
  {
   "cell_type": "code",
   "execution_count": 107,
   "metadata": {
    "scrolled": true
   },
   "outputs": [
    {
     "data": {
      "image/png": "[encoded data removed]",
      "text/plain": [
       "<Figure size 1080x504 with 1 Axes>"
      ]
     },
     "metadata": {},
     "output_type": "display_data"
    }
   ],
   "source": [
    "# Map rating to binary values\n",
    "y_test_bin = Bar_test_label.replace({'positive':1,'negative':0})\n",
    "y_test2_bin = rest_label.replace({'positive':1,'negative':0})\n",
    "pred_bin = pd.DataFrame(pred2).replace({'positive':1,'negative':0})\n",
    "pred2_bin = pd.DataFrame(predicted2).replace({'positive':1,'negative':0})\n",
    "# Plot ROC curve\n",
    "plt.figure(figsize=(15,7))\n",
    "plt.rcParams['font.size'] = 12\n",
    "plt.title('ROC curve for each classifier on new dataset')\n",
    "plt.xlabel('False Positive Rate (1 - Specificity)')\n",
    "plt.ylabel('True Positive Rate (Sensitivity)')\n",
    "plt.grid(True)\n",
    "# Fetch ROC & AUC for bar data Classification\n",
    "fpr, tpr, thresh = metrics.roc_curve(y_test_bin, pred_bin)\n",
    "auc = metrics.roc_auc_score(y_test_bin, pred_bin)\n",
    "plt.plot(fpr,tpr,label=\"Bar Model on Bar data, auc=\"+str(auc))\n",
    "# Fetch ROC & AUC for rest data Classification\n",
    "fpr, tpr, thresh = metrics.roc_curve(y_test2_bin, pred2_bin)\n",
    "auc = metrics.roc_auc_score(y_test2_bin, pred2_bin)\n",
    "plt.plot(fpr,tpr,label=\"Bar Model on Restaurant data, auc=\"+str(auc))\n",
    "plt.legend(loc=0)\n",
    "plt.show()"
   ]
  },
  {
   "cell_type": "markdown",
   "metadata": {},
   "source": [
    "We can see that the transfer learning model trained on bar data performs well enough but not better on restaurant data. This could be because restaurant dataset covers more features than bar dataset and might require more features to be more accurate."
   ]
  },
  {
   "cell_type": "markdown",
   "metadata": {},
   "source": [
    "### Comparison of both Transfer Learning models"
   ]
  },
  {
   "cell_type": "markdown",
   "metadata": {},
   "source": [
    "#### Accuracy of both models"
   ]
  },
  {
   "cell_type": "code",
   "execution_count": 108,
   "metadata": {},
   "outputs": [
    {
     "data": {
      "image/png": "[encoded data removed]",
      "text/plain": [
       "<Figure size 1080x504 with 1 Axes>"
      ]
     },
     "metadata": {},
     "output_type": "display_data"
    }
   ],
   "source": [
    "plot_graph(acc_score,\"Accuracy of both models on a new dataset\")"
   ]
  },
  {
   "cell_type": "markdown",
   "metadata": {},
   "source": [
    "#### F1-Score of both models"
   ]
  },
  {
   "cell_type": "code",
   "execution_count": 109,
   "metadata": {},
   "outputs": [
    {
     "data": {
      "image/png": "[encoded data removed]",
      "text/plain": [
       "<Figure size 1080x504 with 1 Axes>"
      ]
     },
     "metadata": {},
     "output_type": "display_data"
    }
   ],
   "source": [
    "plot_graph(f1_score,\"F1 Score of both models on a new dataset\",ytitle=\" F1 Score\")"
   ]
  },
  {
   "cell_type": "markdown",
   "metadata": {},
   "source": [
    "We can see the restaurant model outperforms the bar model on transfer learning. This could be because bars could be a subset of restaurants therefore restaurant dataset was able to capture most of the important features in the bar dataset."
   ]
  },
  {
   "cell_type": "markdown",
   "metadata": {},
   "source": [
    "#### ROC of both models"
   ]
  },
  {
   "cell_type": "code",
   "execution_count": 110,
   "metadata": {
    "scrolled": true
   },
   "outputs": [
    {
     "data": {
      "image/png": "[encoded data removed]",
      "text/plain": [
       "<Figure size 1080x504 with 1 Axes>"
      ]
     },
     "metadata": {},
     "output_type": "display_data"
    }
   ],
   "source": [
    "# Map rating to binary values\n",
    "y_test_bin = bar_label.replace({'positive':1,'negative':0})\n",
    "y_test2_bin = rest_label.replace({'positive':1,'negative':0})\n",
    "pred_bin = pd.DataFrame(predicted).replace({'positive':1,'negative':0})\n",
    "pred2_bin = pd.DataFrame(predicted2).replace({'positive':1,'negative':0})\n",
    "# Plot ROC curve\n",
    "plt.figure(figsize=(15,7))\n",
    "plt.rcParams['font.size'] = 12\n",
    "plt.title('ROC curve for each classifier on new dataset')\n",
    "plt.xlabel('False Positive Rate (1 - Specificity)')\n",
    "plt.ylabel('True Positive Rate (Sensitivity)')\n",
    "plt.grid(True)\n",
    "# Fetch ROC & AUC for Rest Classification\n",
    "fpr, tpr, thresh = metrics.roc_curve(y_test_bin, pred_bin)\n",
    "auc = metrics.roc_auc_score(y_test_bin, pred_bin)\n",
    "plt.plot(fpr,tpr,label=\"Restaurant Model on bar data, auc=\"+str(auc))\n",
    "# Fetch ROC & AUC for Bar Classification\n",
    "fpr, tpr, thresh = metrics.roc_curve(y_test2_bin, pred2_bin)\n",
    "auc = metrics.roc_auc_score(y_test2_bin, pred2_bin)\n",
    "plt.plot(fpr,tpr,label=\"Bar Model on restaurant data, auc=\"+str(auc))\n",
    "plt.legend(loc=0)\n",
    "plt.show()"
   ]
  },
  {
   "cell_type": "markdown",
   "metadata": {},
   "source": [
    "### Conclusion"
   ]
  },
  {
   "cell_type": "markdown",
   "metadata": {},
   "source": [
    "Initial analysis shows that SVM & Naive Bayes performs exceptionally well than other classifiers in the area of text classification. We can see the best models on the two datasets perform good transfer learning. Our hypothesis is valid since both classifiers have good rate of transfer learning due to their similarities."
   ]
  }
 ],
 "metadata": {
  "kernelspec": {
   "display_name": "Python 3",
   "language": "python",
   "name": "python3"
  },
  "language_info": {
   "codemirror_mode": {
    "name": "ipython",
    "version": 3
   },
   "file_extension": ".py",
   "mimetype": "text/x-python",
   "name": "python",
   "nbconvert_exporter": "python",
   "pygments_lexer": "ipython3",
   "version": "3.6.8"
  }
 },
 "nbformat": 4,
 "nbformat_minor": 2
}
